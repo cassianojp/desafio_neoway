{
 "cells": [
  {
   "cell_type": "markdown",
   "id": "a329a65c",
   "metadata": {},
   "source": [
    "# Desafio Neoway - Conclusão"
   ]
  },
  {
   "cell_type": "markdown",
   "id": "34c207ce",
   "metadata": {},
   "source": [
    "<p><b>Cientista de Dados:</b> Cassiano J. Pereira</p>\n",
    "<p><b>Data:</b> 22/11/2021</p>"
   ]
  },
  {
   "cell_type": "markdown",
   "id": "23f170eb",
   "metadata": {},
   "source": [
    "## Bibliotecas Utilizadas"
   ]
  },
  {
   "cell_type": "code",
   "execution_count": 5,
   "id": "8c139b8c",
   "metadata": {},
   "outputs": [],
   "source": [
    "import pandas as pd\n",
    "import numpy as np\n",
    "import seaborn as sbn\n",
    "import matplotlib.pyplot as plt\n",
    "import warnings\n",
    "%matplotlib inline\n",
    "warnings.filterwarnings('ignore')"
   ]
  },
  {
   "cell_type": "markdown",
   "id": "ce13deeb",
   "metadata": {},
   "source": [
    "## Carregando as Tabela Conexões Indivíduos com as Predições"
   ]
  },
  {
   "cell_type": "code",
   "execution_count": 6,
   "id": "85ac6427",
   "metadata": {},
   "outputs": [],
   "source": [
    "file = 'individuos_conexoes_previstos.csv'"
   ]
  },
  {
   "cell_type": "code",
   "execution_count": 8,
   "id": "3f634c0e",
   "metadata": {},
   "outputs": [
    {
     "data": {
      "text/html": [
       "<div>\n",
       "<style scoped>\n",
       "    .dataframe tbody tr th:only-of-type {\n",
       "        vertical-align: middle;\n",
       "    }\n",
       "\n",
       "    .dataframe tbody tr th {\n",
       "        vertical-align: top;\n",
       "    }\n",
       "\n",
       "    .dataframe thead th {\n",
       "        text-align: right;\n",
       "    }\n",
       "</style>\n",
       "<table border=\"1\" class=\"dataframe\">\n",
       "  <thead>\n",
       "    <tr style=\"text-align: right;\">\n",
       "      <th></th>\n",
       "      <th>idade1</th>\n",
       "      <th>estuda1</th>\n",
       "      <th>trabalha1</th>\n",
       "      <th>pratica_esportes1</th>\n",
       "      <th>idade2</th>\n",
       "      <th>estuda2</th>\n",
       "      <th>trabalha2</th>\n",
       "      <th>pratica_esportes2</th>\n",
       "      <th>prob_V1_V2</th>\n",
       "      <th>qt_filhos1_0.0</th>\n",
       "      <th>...</th>\n",
       "      <th>grau_familia</th>\n",
       "      <th>grau_trabalho</th>\n",
       "      <th>proximidade_mora_junto</th>\n",
       "      <th>proximidade_visita_casual</th>\n",
       "      <th>proximidade_visita_frequente</th>\n",
       "      <th>proximidade_visita_rara</th>\n",
       "      <th>IMC1_cut</th>\n",
       "      <th>IMC2_cut</th>\n",
       "      <th>hex_cat_todos</th>\n",
       "      <th>cluster</th>\n",
       "    </tr>\n",
       "  </thead>\n",
       "  <tbody>\n",
       "    <tr>\n",
       "      <th>0</th>\n",
       "      <td>44.0</td>\n",
       "      <td>1.0</td>\n",
       "      <td>0.0</td>\n",
       "      <td>1.0</td>\n",
       "      <td>24.0</td>\n",
       "      <td>0.0</td>\n",
       "      <td>0.0</td>\n",
       "      <td>1.0</td>\n",
       "      <td>0.589462</td>\n",
       "      <td>0</td>\n",
       "      <td>...</td>\n",
       "      <td>0</td>\n",
       "      <td>1</td>\n",
       "      <td>0</td>\n",
       "      <td>0</td>\n",
       "      <td>1</td>\n",
       "      <td>0</td>\n",
       "      <td>5</td>\n",
       "      <td>7</td>\n",
       "      <td>240421249.0</td>\n",
       "      <td>0</td>\n",
       "    </tr>\n",
       "    <tr>\n",
       "      <th>1</th>\n",
       "      <td>44.0</td>\n",
       "      <td>1.0</td>\n",
       "      <td>0.0</td>\n",
       "      <td>1.0</td>\n",
       "      <td>35.0</td>\n",
       "      <td>0.0</td>\n",
       "      <td>0.0</td>\n",
       "      <td>1.0</td>\n",
       "      <td>0.708465</td>\n",
       "      <td>0</td>\n",
       "      <td>...</td>\n",
       "      <td>0</td>\n",
       "      <td>1</td>\n",
       "      <td>0</td>\n",
       "      <td>0</td>\n",
       "      <td>0</td>\n",
       "      <td>1</td>\n",
       "      <td>5</td>\n",
       "      <td>4</td>\n",
       "      <td>240181537.0</td>\n",
       "      <td>0</td>\n",
       "    </tr>\n",
       "    <tr>\n",
       "      <th>2</th>\n",
       "      <td>24.0</td>\n",
       "      <td>0.0</td>\n",
       "      <td>0.0</td>\n",
       "      <td>1.0</td>\n",
       "      <td>30.0</td>\n",
       "      <td>1.0</td>\n",
       "      <td>0.0</td>\n",
       "      <td>1.0</td>\n",
       "      <td>0.638842</td>\n",
       "      <td>1</td>\n",
       "      <td>...</td>\n",
       "      <td>0</td>\n",
       "      <td>1</td>\n",
       "      <td>0</td>\n",
       "      <td>0</td>\n",
       "      <td>0</td>\n",
       "      <td>1</td>\n",
       "      <td>7</td>\n",
       "      <td>1</td>\n",
       "      <td>247515432.0</td>\n",
       "      <td>0</td>\n",
       "    </tr>\n",
       "    <tr>\n",
       "      <th>3</th>\n",
       "      <td>35.0</td>\n",
       "      <td>0.0</td>\n",
       "      <td>0.0</td>\n",
       "      <td>1.0</td>\n",
       "      <td>55.0</td>\n",
       "      <td>1.0</td>\n",
       "      <td>1.0</td>\n",
       "      <td>1.0</td>\n",
       "      <td>0.709608</td>\n",
       "      <td>0</td>\n",
       "      <td>...</td>\n",
       "      <td>1</td>\n",
       "      <td>0</td>\n",
       "      <td>0</td>\n",
       "      <td>1</td>\n",
       "      <td>0</td>\n",
       "      <td>0</td>\n",
       "      <td>4</td>\n",
       "      <td>8</td>\n",
       "      <td>264397858.0</td>\n",
       "      <td>4</td>\n",
       "    </tr>\n",
       "    <tr>\n",
       "      <th>4</th>\n",
       "      <td>50.0</td>\n",
       "      <td>1.0</td>\n",
       "      <td>1.0</td>\n",
       "      <td>0.0</td>\n",
       "      <td>42.0</td>\n",
       "      <td>0.0</td>\n",
       "      <td>1.0</td>\n",
       "      <td>0.0</td>\n",
       "      <td>0.465209</td>\n",
       "      <td>0</td>\n",
       "      <td>...</td>\n",
       "      <td>0</td>\n",
       "      <td>0</td>\n",
       "      <td>0</td>\n",
       "      <td>1</td>\n",
       "      <td>0</td>\n",
       "      <td>0</td>\n",
       "      <td>7</td>\n",
       "      <td>9</td>\n",
       "      <td>20121880.0</td>\n",
       "      <td>1</td>\n",
       "    </tr>\n",
       "    <tr>\n",
       "      <th>...</th>\n",
       "      <td>...</td>\n",
       "      <td>...</td>\n",
       "      <td>...</td>\n",
       "      <td>...</td>\n",
       "      <td>...</td>\n",
       "      <td>...</td>\n",
       "      <td>...</td>\n",
       "      <td>...</td>\n",
       "      <td>...</td>\n",
       "      <td>...</td>\n",
       "      <td>...</td>\n",
       "      <td>...</td>\n",
       "      <td>...</td>\n",
       "      <td>...</td>\n",
       "      <td>...</td>\n",
       "      <td>...</td>\n",
       "      <td>...</td>\n",
       "      <td>...</td>\n",
       "      <td>...</td>\n",
       "      <td>...</td>\n",
       "      <td>...</td>\n",
       "    </tr>\n",
       "    <tr>\n",
       "      <th>999994</th>\n",
       "      <td>30.0</td>\n",
       "      <td>1.0</td>\n",
       "      <td>0.0</td>\n",
       "      <td>1.0</td>\n",
       "      <td>32.0</td>\n",
       "      <td>0.0</td>\n",
       "      <td>1.0</td>\n",
       "      <td>0.0</td>\n",
       "      <td>0.748095</td>\n",
       "      <td>0</td>\n",
       "      <td>...</td>\n",
       "      <td>0</td>\n",
       "      <td>1</td>\n",
       "      <td>0</td>\n",
       "      <td>0</td>\n",
       "      <td>1</td>\n",
       "      <td>0</td>\n",
       "      <td>9</td>\n",
       "      <td>7</td>\n",
       "      <td>89433224.0</td>\n",
       "      <td>3</td>\n",
       "    </tr>\n",
       "    <tr>\n",
       "      <th>999995</th>\n",
       "      <td>30.0</td>\n",
       "      <td>1.0</td>\n",
       "      <td>0.0</td>\n",
       "      <td>1.0</td>\n",
       "      <td>33.0</td>\n",
       "      <td>0.0</td>\n",
       "      <td>0.0</td>\n",
       "      <td>0.0</td>\n",
       "      <td>0.744036</td>\n",
       "      <td>0</td>\n",
       "      <td>...</td>\n",
       "      <td>1</td>\n",
       "      <td>0</td>\n",
       "      <td>0</td>\n",
       "      <td>1</td>\n",
       "      <td>0</td>\n",
       "      <td>0</td>\n",
       "      <td>9</td>\n",
       "      <td>2</td>\n",
       "      <td>72508552.0</td>\n",
       "      <td>3</td>\n",
       "    </tr>\n",
       "    <tr>\n",
       "      <th>999996</th>\n",
       "      <td>23.0</td>\n",
       "      <td>1.0</td>\n",
       "      <td>1.0</td>\n",
       "      <td>0.0</td>\n",
       "      <td>34.0</td>\n",
       "      <td>0.0</td>\n",
       "      <td>1.0</td>\n",
       "      <td>1.0</td>\n",
       "      <td>0.359774</td>\n",
       "      <td>1</td>\n",
       "      <td>...</td>\n",
       "      <td>0</td>\n",
       "      <td>1</td>\n",
       "      <td>0</td>\n",
       "      <td>0</td>\n",
       "      <td>0</td>\n",
       "      <td>1</td>\n",
       "      <td>5</td>\n",
       "      <td>2</td>\n",
       "      <td>187746696.0</td>\n",
       "      <td>2</td>\n",
       "    </tr>\n",
       "    <tr>\n",
       "      <th>999997</th>\n",
       "      <td>23.0</td>\n",
       "      <td>1.0</td>\n",
       "      <td>1.0</td>\n",
       "      <td>0.0</td>\n",
       "      <td>40.0</td>\n",
       "      <td>0.0</td>\n",
       "      <td>1.0</td>\n",
       "      <td>1.0</td>\n",
       "      <td>0.470589</td>\n",
       "      <td>1</td>\n",
       "      <td>...</td>\n",
       "      <td>0</td>\n",
       "      <td>1</td>\n",
       "      <td>0</td>\n",
       "      <td>0</td>\n",
       "      <td>0</td>\n",
       "      <td>1</td>\n",
       "      <td>5</td>\n",
       "      <td>6</td>\n",
       "      <td>187752840.0</td>\n",
       "      <td>2</td>\n",
       "    </tr>\n",
       "    <tr>\n",
       "      <th>999998</th>\n",
       "      <td>12.0</td>\n",
       "      <td>1.0</td>\n",
       "      <td>0.0</td>\n",
       "      <td>1.0</td>\n",
       "      <td>22.0</td>\n",
       "      <td>0.0</td>\n",
       "      <td>0.0</td>\n",
       "      <td>0.0</td>\n",
       "      <td>0.483927</td>\n",
       "      <td>1</td>\n",
       "      <td>...</td>\n",
       "      <td>1</td>\n",
       "      <td>0</td>\n",
       "      <td>0</td>\n",
       "      <td>0</td>\n",
       "      <td>0</td>\n",
       "      <td>1</td>\n",
       "      <td>3</td>\n",
       "      <td>6</td>\n",
       "      <td>72386850.0</td>\n",
       "      <td>3</td>\n",
       "    </tr>\n",
       "  </tbody>\n",
       "</table>\n",
       "<p>999999 rows × 53 columns</p>\n",
       "</div>"
      ],
      "text/plain": [
       "        idade1  estuda1  trabalha1  pratica_esportes1  idade2  estuda2  \\\n",
       "0         44.0      1.0        0.0                1.0    24.0      0.0   \n",
       "1         44.0      1.0        0.0                1.0    35.0      0.0   \n",
       "2         24.0      0.0        0.0                1.0    30.0      1.0   \n",
       "3         35.0      0.0        0.0                1.0    55.0      1.0   \n",
       "4         50.0      1.0        1.0                0.0    42.0      0.0   \n",
       "...        ...      ...        ...                ...     ...      ...   \n",
       "999994    30.0      1.0        0.0                1.0    32.0      0.0   \n",
       "999995    30.0      1.0        0.0                1.0    33.0      0.0   \n",
       "999996    23.0      1.0        1.0                0.0    34.0      0.0   \n",
       "999997    23.0      1.0        1.0                0.0    40.0      0.0   \n",
       "999998    12.0      1.0        0.0                1.0    22.0      0.0   \n",
       "\n",
       "        trabalha2  pratica_esportes2  prob_V1_V2  qt_filhos1_0.0  ...  \\\n",
       "0             0.0                1.0    0.589462               0  ...   \n",
       "1             0.0                1.0    0.708465               0  ...   \n",
       "2             0.0                1.0    0.638842               1  ...   \n",
       "3             1.0                1.0    0.709608               0  ...   \n",
       "4             1.0                0.0    0.465209               0  ...   \n",
       "...           ...                ...         ...             ...  ...   \n",
       "999994        1.0                0.0    0.748095               0  ...   \n",
       "999995        0.0                0.0    0.744036               0  ...   \n",
       "999996        1.0                1.0    0.359774               1  ...   \n",
       "999997        1.0                1.0    0.470589               1  ...   \n",
       "999998        0.0                0.0    0.483927               1  ...   \n",
       "\n",
       "        grau_familia  grau_trabalho  proximidade_mora_junto  \\\n",
       "0                  0              1                       0   \n",
       "1                  0              1                       0   \n",
       "2                  0              1                       0   \n",
       "3                  1              0                       0   \n",
       "4                  0              0                       0   \n",
       "...              ...            ...                     ...   \n",
       "999994             0              1                       0   \n",
       "999995             1              0                       0   \n",
       "999996             0              1                       0   \n",
       "999997             0              1                       0   \n",
       "999998             1              0                       0   \n",
       "\n",
       "        proximidade_visita_casual  proximidade_visita_frequente  \\\n",
       "0                               0                             1   \n",
       "1                               0                             0   \n",
       "2                               0                             0   \n",
       "3                               1                             0   \n",
       "4                               1                             0   \n",
       "...                           ...                           ...   \n",
       "999994                          0                             1   \n",
       "999995                          1                             0   \n",
       "999996                          0                             0   \n",
       "999997                          0                             0   \n",
       "999998                          0                             0   \n",
       "\n",
       "        proximidade_visita_rara  IMC1_cut  IMC2_cut  hex_cat_todos  cluster  \n",
       "0                             0         5         7    240421249.0        0  \n",
       "1                             1         5         4    240181537.0        0  \n",
       "2                             1         7         1    247515432.0        0  \n",
       "3                             0         4         8    264397858.0        4  \n",
       "4                             0         7         9     20121880.0        1  \n",
       "...                         ...       ...       ...            ...      ...  \n",
       "999994                        0         9         7     89433224.0        3  \n",
       "999995                        0         9         2     72508552.0        3  \n",
       "999996                        1         5         2    187746696.0        2  \n",
       "999997                        1         5         6    187752840.0        2  \n",
       "999998                        1         3         6     72386850.0        3  \n",
       "\n",
       "[999999 rows x 53 columns]"
      ]
     },
     "execution_count": 8,
     "metadata": {},
     "output_type": "execute_result"
    }
   ],
   "source": [
    "df_individuos_conexoes_previstos = pd.read_csv(file, sep=';')\n",
    "df_individuos_conexoes_previstos"
   ]
  },
  {
   "cell_type": "code",
   "execution_count": 9,
   "id": "14055cd9",
   "metadata": {},
   "outputs": [
    {
     "data": {
      "image/png": "[encoded data removed]",
      "text/plain": [
       "<Figure size 432x288 with 1 Axes>"
      ]
     },
     "metadata": {
      "needs_background": "light"
     },
     "output_type": "display_data"
    }
   ],
   "source": [
    "sbn.distplot(df_individuos_conexoes_previstos['prob_V1_V2'], color='gray');"
   ]
  },
  {
   "cell_type": "markdown",
   "id": "10e759f2",
   "metadata": {},
   "source": [
    "## Criando classes para os  níveis da taxa de contágio"
   ]
  },
  {
   "cell_type": "code",
   "execution_count": 17,
   "id": "7f87c825",
   "metadata": {},
   "outputs": [],
   "source": [
    "labels = ['Baixo', 'Médio', 'Alto']\n",
    "df_individuos_conexoes_previstos['nivel'] = pd.qcut(df_individuos_conexoes_previstos['prob_V1_V2'], 3, labels=labels)"
   ]
  },
  {
   "cell_type": "markdown",
   "id": "9a9d4f7c",
   "metadata": {},
   "source": [
    "## Verificando informações para tomada de decisão"
   ]
  },
  {
   "cell_type": "code",
   "execution_count": 73,
   "id": "028210dd",
   "metadata": {},
   "outputs": [
    {
     "data": {
      "image/png": "[encoded data removed]",
      "text/plain": [
       "<Figure size 432x288 with 1 Axes>"
      ]
     },
     "metadata": {
      "needs_background": "light"
     },
     "output_type": "display_data"
    }
   ],
   "source": [
    "nivel_trabalho = df_individuos_conexoes_previstos.groupby('nivel').grau_trabalho.sum();\n",
    "nivel_trabalho.plot.bar(ylabel='nº de casos', color='darkblue');\n",
    "plt.ylim(60000, 130000)\n",
    "plt.title('Contágio no Trabalho');"
   ]
  },
  {
   "cell_type": "code",
   "execution_count": 80,
   "id": "f8cbfdca",
   "metadata": {},
   "outputs": [
    {
     "data": {
      "image/png": "[encoded data removed]",
      "text/plain": [
       "<Figure size 432x288 with 1 Axes>"
      ]
     },
     "metadata": {
      "needs_background": "light"
     },
     "output_type": "display_data"
    }
   ],
   "source": [
    "nivel_trabalho = df_individuos_conexoes_previstos.groupby('nivel').grau_trabalho.sum();\n",
    "nivel_trabalho.plot.bar(ylabel='nº de casos', color='darkblue');\n",
    "plt.ylim(60000, 140000)\n",
    "plt.title('Contágio no Trabalho');"
   ]
  },
  {
   "cell_type": "code",
   "execution_count": 83,
   "id": "c884a91d",
   "metadata": {},
   "outputs": [
    {
     "data": {
      "image/png": "[encoded data removed]",
      "text/plain": [
       "<Figure size 432x288 with 1 Axes>"
      ]
     },
     "metadata": {
      "needs_background": "light"
     },
     "output_type": "display_data"
    }
   ],
   "source": [
    "nivel_transporte_particular = df_individuos_conexoes_previstos.groupby('nivel').transporte_mais_utilizado1_particular.sum();\n",
    "nivel_transporte_particular.plot.bar(ylabel='nº de casos', color='darkblue');\n",
    "plt.ylim(90000, 140000)\n",
    "plt.title('Contágio por Transporte Particular');"
   ]
  },
  {
   "cell_type": "code",
   "execution_count": 85,
   "id": "67fc337f",
   "metadata": {},
   "outputs": [
    {
     "data": {
      "image/png": "[encoded data removed]",
      "text/plain": [
       "<Figure size 432x288 with 1 Axes>"
      ]
     },
     "metadata": {
      "needs_background": "light"
     },
     "output_type": "display_data"
    }
   ],
   "source": [
    "nivel_transporte_taxi = df_individuos_conexoes_previstos.groupby('nivel').transporte_mais_utilizado1_taxi.sum();\n",
    "nivel_transporte_taxi.plot.bar(ylabel='nº de casos', color='darkblue');\n",
    "plt.ylim(10000, 30000)\n",
    "plt.title('Contágio por Transporte Taxi');"
   ]
  },
  {
   "cell_type": "code",
   "execution_count": 88,
   "id": "b376ee53",
   "metadata": {},
   "outputs": [
    {
     "data": {
      "image/png": "[encoded data removed]",
      "text/plain": [
       "<Figure size 432x288 with 1 Axes>"
      ]
     },
     "metadata": {
      "needs_background": "light"
     },
     "output_type": "display_data"
    }
   ],
   "source": [
    "nivel_transporte_publico = df_individuos_conexoes_previstos.groupby('nivel').transporte_mais_utilizado1_publico.sum();\n",
    "nivel_transporte_publico.plot.bar(ylabel='nº de casos', color='darkblue');\n",
    "plt.ylim(150000, 220000)\n",
    "plt.title('Contágio por Transporte Público');"
   ]
  },
  {
   "cell_type": "code",
   "execution_count": 89,
   "id": "b851bb0a",
   "metadata": {},
   "outputs": [
    {
     "data": {
      "image/png": "[encoded data removed]",
      "text/plain": [
       "<Figure size 432x288 with 1 Axes>"
      ]
     },
     "metadata": {
      "needs_background": "light"
     },
     "output_type": "display_data"
    }
   ],
   "source": [
    "nivel_mora_junto = df_individuos_conexoes_previstos.groupby('nivel').proximidade_mora_junto.sum();\n",
    "nivel_mora_junto.plot.bar(ylabel='nº de casos', color='darkblue');\n",
    "plt.ylim(5000, 67000)\n",
    "plt.title('Contágio por Morar Juntos');"
   ]
  },
  {
   "cell_type": "code",
   "execution_count": 90,
   "id": "6d97a78d",
   "metadata": {},
   "outputs": [
    {
     "data": {
      "image/png": "[encoded data removed]",
      "text/plain": [
       "<Figure size 432x288 with 1 Axes>"
      ]
     },
     "metadata": {
      "needs_background": "light"
     },
     "output_type": "display_data"
    }
   ],
   "source": [
    "nivel_visita_casual = df_individuos_conexoes_previstos.groupby('nivel').proximidade_visita_casual.sum();\n",
    "nivel_visita_casual.plot.bar(ylabel='nº de casos', color='darkblue');\n",
    "plt.ylim(20000, 200000)\n",
    "plt.title('Contágio por Visitas Casuais');"
   ]
  },
  {
   "cell_type": "markdown",
   "id": "0454e004",
   "metadata": {},
   "source": [
    "# Políticas de Saúde"
   ]
  },
  {
   "cell_type": "markdown",
   "id": "84f5c3fe",
   "metadata": {},
   "source": [
    "Baseado nos dados previstos e análisados acima, tomando como foco atititudes que restrinjam ou reduzam o contágio, uma das possibilidade seria incentivar ainda mais o trabalho remoto. Outra atitude seria identificar os modos de transmissão deste vírus e conforme, distribuir utensílios de proteção para a população de modo a diminuir a trasmissão em ambientes como, por exemplo, transporte público."
   ]
  },
  {
   "cell_type": "markdown",
   "id": "4a35c2c7",
   "metadata": {},
   "source": [
    "----------"
   ]
  },
  {
   "cell_type": "code",
   "execution_count": null,
   "id": "dad6b9d2",
   "metadata": {},
   "outputs": [],
   "source": []
  }
 ],
 "metadata": {
  "kernelspec": {
   "display_name": "Python 3 (ipykernel)",
   "language": "python",
   "name": "python3"
  },
  "language_info": {
   "codemirror_mode": {
    "name": "ipython",
    "version": 3
   },
   "file_extension": ".py",
   "mimetype": "text/x-python",
   "name": "python",
   "nbconvert_exporter": "python",
   "pygments_lexer": "ipython3",
   "version": "3.7.10"
  }
 },
 "nbformat": 4,
 "nbformat_minor": 5
}
