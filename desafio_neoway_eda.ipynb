{
 "cells": [
  {
   "cell_type": "markdown",
   "id": "c2ea9ab8",
   "metadata": {},
   "source": [
    "# Desafio Neoway - EDA"
   ]
  },
  {
   "cell_type": "markdown",
   "id": "97371396",
   "metadata": {},
   "source": [
    "<p><b>Cientista de Dados:</b> Cassiano J. Pereira</p>\n",
    "<p><b>Data:</b> 22/11/2021</p>"
   ]
  },
  {
   "cell_type": "markdown",
   "id": "f7a9fb39",
   "metadata": {},
   "source": [
    "## Bibliotecas Utilizadas"
   ]
  },
  {
   "cell_type": "code",
   "execution_count": 1,
   "id": "8cfa638d",
   "metadata": {},
   "outputs": [],
   "source": [
    "import pandas as pd\n",
    "import numpy as np\n",
    "import random\n",
    "import math\n",
    "from sklearn.cluster import KMeans\n",
    "import sqlite3\n",
    "import seaborn as sbn\n",
    "import matplotlib.pyplot as plt\n",
    "import warnings\n",
    "%matplotlib inline\n",
    "warnings.filterwarnings('ignore')"
   ]
  },
  {
   "cell_type": "code",
   "execution_count": 2,
   "id": "a8949360",
   "metadata": {},
   "outputs": [],
   "source": [
    "seed = 42"
   ]
  },
  {
   "cell_type": "code",
   "execution_count": 3,
   "id": "7876bf60",
   "metadata": {},
   "outputs": [],
   "source": [
    "file1 = \"individuos_espec.csv\"\n",
    "file2 = \"conexoes_espec.csv\""
   ]
  },
  {
   "cell_type": "markdown",
   "id": "434a5bc3",
   "metadata": {},
   "source": [
    "## Funções Auxiliares"
   ]
  },
  {
   "cell_type": "code",
   "execution_count": 4,
   "id": "0285afd8",
   "metadata": {},
   "outputs": [],
   "source": [
    "def preenchimento_homogeneo(dfx, coluna, categorias):\n",
    "    dados_faltantes = dfx[df_individuos[coluna].isnull()]\n",
    "    tamanho_categoria = len(categorias)\n",
    "\n",
    "    for c, i in enumerate(dados_faltantes.index):\n",
    "        dfx.loc[i, coluna] = categorias[c % tamanho_categoria]"
   ]
  },
  {
   "cell_type": "code",
   "execution_count": 5,
   "id": "f029643d",
   "metadata": {},
   "outputs": [],
   "source": [
    "def preenchimento_randomico(dfx, coluna):\n",
    "    media = dfx[coluna].mean()\n",
    "    desvio = dfx[coluna].std()\n",
    "    limite_abaixo = media - desvio\n",
    "    limite_acima = media + desvio\n",
    "    nao_faltantes = dfx[~dfx[coluna].isnull()]\n",
    "    dados_faltantes = dfx[dfx[coluna].isnull()]\n",
    "    valores = nao_faltantes[(nao_faltantes[coluna] <= limite_acima) & (nao_faltantes[coluna] >= limite_abaixo)][coluna].to_list()\n",
    "    \n",
    "    for i in dados_faltantes.index:\n",
    "        dfx.loc[i, coluna] = random.choice(valores)"
   ]
  },
  {
   "cell_type": "markdown",
   "id": "29b1cd17",
   "metadata": {},
   "source": [
    "## Análise da Tabela \"Individuos Espec\""
   ]
  },
  {
   "cell_type": "code",
   "execution_count": 6,
   "id": "d640ccd1",
   "metadata": {},
   "outputs": [
    {
     "data": {
      "text/html": [
       "<div>\n",
       "<style scoped>\n",
       "    .dataframe tbody tr th:only-of-type {\n",
       "        vertical-align: middle;\n",
       "    }\n",
       "\n",
       "    .dataframe tbody tr th {\n",
       "        vertical-align: top;\n",
       "    }\n",
       "\n",
       "    .dataframe thead th {\n",
       "        text-align: right;\n",
       "    }\n",
       "</style>\n",
       "<table border=\"1\" class=\"dataframe\">\n",
       "  <thead>\n",
       "    <tr style=\"text-align: right;\">\n",
       "      <th></th>\n",
       "      <th>name</th>\n",
       "      <th>idade</th>\n",
       "      <th>estado_civil</th>\n",
       "      <th>qt_filhos</th>\n",
       "      <th>estuda</th>\n",
       "      <th>trabalha</th>\n",
       "      <th>pratica_esportes</th>\n",
       "      <th>transporte_mais_utilizado</th>\n",
       "      <th>IMC</th>\n",
       "    </tr>\n",
       "  </thead>\n",
       "  <tbody>\n",
       "    <tr>\n",
       "      <th>0</th>\n",
       "      <td>1</td>\n",
       "      <td>44.0</td>\n",
       "      <td>divorciado</td>\n",
       "      <td>1.0</td>\n",
       "      <td>1.0</td>\n",
       "      <td>0.0</td>\n",
       "      <td>1.0</td>\n",
       "      <td>publico</td>\n",
       "      <td>22.200956</td>\n",
       "    </tr>\n",
       "    <tr>\n",
       "      <th>1</th>\n",
       "      <td>2</td>\n",
       "      <td>24.0</td>\n",
       "      <td>casado</td>\n",
       "      <td>0.0</td>\n",
       "      <td>0.0</td>\n",
       "      <td>0.0</td>\n",
       "      <td>1.0</td>\n",
       "      <td>publico</td>\n",
       "      <td>25.378720</td>\n",
       "    </tr>\n",
       "    <tr>\n",
       "      <th>2</th>\n",
       "      <td>3</td>\n",
       "      <td>35.0</td>\n",
       "      <td>solteiro</td>\n",
       "      <td>1.0</td>\n",
       "      <td>0.0</td>\n",
       "      <td>0.0</td>\n",
       "      <td>1.0</td>\n",
       "      <td>particular</td>\n",
       "      <td>19.952393</td>\n",
       "    </tr>\n",
       "    <tr>\n",
       "      <th>3</th>\n",
       "      <td>4</td>\n",
       "      <td>50.0</td>\n",
       "      <td>casado</td>\n",
       "      <td>1.0</td>\n",
       "      <td>1.0</td>\n",
       "      <td>1.0</td>\n",
       "      <td>0.0</td>\n",
       "      <td>publico</td>\n",
       "      <td>26.732053</td>\n",
       "    </tr>\n",
       "    <tr>\n",
       "      <th>4</th>\n",
       "      <td>5</td>\n",
       "      <td>30.0</td>\n",
       "      <td>solteiro</td>\n",
       "      <td>2.0</td>\n",
       "      <td>1.0</td>\n",
       "      <td>0.0</td>\n",
       "      <td>1.0</td>\n",
       "      <td>publico</td>\n",
       "      <td>15.295668</td>\n",
       "    </tr>\n",
       "    <tr>\n",
       "      <th>...</th>\n",
       "      <td>...</td>\n",
       "      <td>...</td>\n",
       "      <td>...</td>\n",
       "      <td>...</td>\n",
       "      <td>...</td>\n",
       "      <td>...</td>\n",
       "      <td>...</td>\n",
       "      <td>...</td>\n",
       "      <td>...</td>\n",
       "    </tr>\n",
       "    <tr>\n",
       "      <th>999995</th>\n",
       "      <td>999996</td>\n",
       "      <td>34.0</td>\n",
       "      <td>casado</td>\n",
       "      <td>1.0</td>\n",
       "      <td>0.0</td>\n",
       "      <td>1.0</td>\n",
       "      <td>1.0</td>\n",
       "      <td>publico</td>\n",
       "      <td>17.556771</td>\n",
       "    </tr>\n",
       "    <tr>\n",
       "      <th>999996</th>\n",
       "      <td>999997</td>\n",
       "      <td>40.0</td>\n",
       "      <td>casado</td>\n",
       "      <td>1.0</td>\n",
       "      <td>0.0</td>\n",
       "      <td>1.0</td>\n",
       "      <td>1.0</td>\n",
       "      <td>particular</td>\n",
       "      <td>24.848402</td>\n",
       "    </tr>\n",
       "    <tr>\n",
       "      <th>999997</th>\n",
       "      <td>999998</td>\n",
       "      <td>30.0</td>\n",
       "      <td>divorciado</td>\n",
       "      <td>1.0</td>\n",
       "      <td>0.0</td>\n",
       "      <td>0.0</td>\n",
       "      <td>1.0</td>\n",
       "      <td>publico</td>\n",
       "      <td>NaN</td>\n",
       "    </tr>\n",
       "    <tr>\n",
       "      <th>999998</th>\n",
       "      <td>999999</td>\n",
       "      <td>33.0</td>\n",
       "      <td>casado</td>\n",
       "      <td>0.0</td>\n",
       "      <td>1.0</td>\n",
       "      <td>1.0</td>\n",
       "      <td>1.0</td>\n",
       "      <td>publico</td>\n",
       "      <td>16.979569</td>\n",
       "    </tr>\n",
       "    <tr>\n",
       "      <th>999999</th>\n",
       "      <td>1000000</td>\n",
       "      <td>22.0</td>\n",
       "      <td>solteiro</td>\n",
       "      <td>0.0</td>\n",
       "      <td>0.0</td>\n",
       "      <td>0.0</td>\n",
       "      <td>0.0</td>\n",
       "      <td>NaN</td>\n",
       "      <td>24.018825</td>\n",
       "    </tr>\n",
       "  </tbody>\n",
       "</table>\n",
       "<p>1000000 rows × 9 columns</p>\n",
       "</div>"
      ],
      "text/plain": [
       "           name  idade estado_civil  qt_filhos  estuda  trabalha  \\\n",
       "0             1   44.0   divorciado        1.0     1.0       0.0   \n",
       "1             2   24.0       casado        0.0     0.0       0.0   \n",
       "2             3   35.0     solteiro        1.0     0.0       0.0   \n",
       "3             4   50.0       casado        1.0     1.0       1.0   \n",
       "4             5   30.0     solteiro        2.0     1.0       0.0   \n",
       "...         ...    ...          ...        ...     ...       ...   \n",
       "999995   999996   34.0       casado        1.0     0.0       1.0   \n",
       "999996   999997   40.0       casado        1.0     0.0       1.0   \n",
       "999997   999998   30.0   divorciado        1.0     0.0       0.0   \n",
       "999998   999999   33.0       casado        0.0     1.0       1.0   \n",
       "999999  1000000   22.0     solteiro        0.0     0.0       0.0   \n",
       "\n",
       "        pratica_esportes transporte_mais_utilizado        IMC  \n",
       "0                    1.0                   publico  22.200956  \n",
       "1                    1.0                   publico  25.378720  \n",
       "2                    1.0                particular  19.952393  \n",
       "3                    0.0                   publico  26.732053  \n",
       "4                    1.0                   publico  15.295668  \n",
       "...                  ...                       ...        ...  \n",
       "999995               1.0                   publico  17.556771  \n",
       "999996               1.0                particular  24.848402  \n",
       "999997               1.0                   publico        NaN  \n",
       "999998               1.0                   publico  16.979569  \n",
       "999999               0.0                       NaN  24.018825  \n",
       "\n",
       "[1000000 rows x 9 columns]"
      ]
     },
     "execution_count": 6,
     "metadata": {},
     "output_type": "execute_result"
    }
   ],
   "source": [
    "df_individuos = pd.read_csv(file1, sep=';')\n",
    "df_individuos"
   ]
  },
  {
   "cell_type": "code",
   "execution_count": 7,
   "id": "e6b26288",
   "metadata": {},
   "outputs": [
    {
     "name": "stdout",
     "output_type": "stream",
     "text": [
      "<class 'pandas.core.frame.DataFrame'>\n",
      "RangeIndex: 1000000 entries, 0 to 999999\n",
      "Data columns (total 9 columns):\n",
      " #   Column                     Non-Null Count    Dtype  \n",
      "---  ------                     --------------    -----  \n",
      " 0   name                       1000000 non-null  int64  \n",
      " 1   idade                      904063 non-null   float64\n",
      " 2   estado_civil               949927 non-null   object \n",
      " 3   qt_filhos                  971133 non-null   float64\n",
      " 4   estuda                     959870 non-null   float64\n",
      " 5   trabalha                   993647 non-null   float64\n",
      " 6   pratica_esportes           850876 non-null   float64\n",
      " 7   transporte_mais_utilizado  956967 non-null   object \n",
      " 8   IMC                        886130 non-null   float64\n",
      "dtypes: float64(6), int64(1), object(2)\n",
      "memory usage: 68.7+ MB\n"
     ]
    }
   ],
   "source": [
    "df_individuos.info()"
   ]
  },
  {
   "cell_type": "code",
   "execution_count": 8,
   "id": "9a94ae08",
   "metadata": {},
   "outputs": [
    {
     "data": {
      "text/html": [
       "<div>\n",
       "<style scoped>\n",
       "    .dataframe tbody tr th:only-of-type {\n",
       "        vertical-align: middle;\n",
       "    }\n",
       "\n",
       "    .dataframe tbody tr th {\n",
       "        vertical-align: top;\n",
       "    }\n",
       "\n",
       "    .dataframe thead th {\n",
       "        text-align: right;\n",
       "    }\n",
       "</style>\n",
       "<table border=\"1\" class=\"dataframe\">\n",
       "  <thead>\n",
       "    <tr style=\"text-align: right;\">\n",
       "      <th></th>\n",
       "      <th>name</th>\n",
       "      <th>idade</th>\n",
       "      <th>qt_filhos</th>\n",
       "      <th>estuda</th>\n",
       "      <th>trabalha</th>\n",
       "      <th>pratica_esportes</th>\n",
       "      <th>IMC</th>\n",
       "    </tr>\n",
       "  </thead>\n",
       "  <tbody>\n",
       "    <tr>\n",
       "      <th>name</th>\n",
       "      <td>1.000000</td>\n",
       "      <td>-0.000603</td>\n",
       "      <td>0.000215</td>\n",
       "      <td>-0.000628</td>\n",
       "      <td>0.000905</td>\n",
       "      <td>-0.000195</td>\n",
       "      <td>0.000657</td>\n",
       "    </tr>\n",
       "    <tr>\n",
       "      <th>idade</th>\n",
       "      <td>-0.000603</td>\n",
       "      <td>1.000000</td>\n",
       "      <td>0.116169</td>\n",
       "      <td>-0.138990</td>\n",
       "      <td>0.136843</td>\n",
       "      <td>0.001264</td>\n",
       "      <td>-0.000375</td>\n",
       "    </tr>\n",
       "    <tr>\n",
       "      <th>qt_filhos</th>\n",
       "      <td>0.000215</td>\n",
       "      <td>0.116169</td>\n",
       "      <td>1.000000</td>\n",
       "      <td>-0.080367</td>\n",
       "      <td>0.079386</td>\n",
       "      <td>-0.000543</td>\n",
       "      <td>-0.000338</td>\n",
       "    </tr>\n",
       "    <tr>\n",
       "      <th>estuda</th>\n",
       "      <td>-0.000628</td>\n",
       "      <td>-0.138990</td>\n",
       "      <td>-0.080367</td>\n",
       "      <td>1.000000</td>\n",
       "      <td>-0.096353</td>\n",
       "      <td>-0.000010</td>\n",
       "      <td>0.000352</td>\n",
       "    </tr>\n",
       "    <tr>\n",
       "      <th>trabalha</th>\n",
       "      <td>0.000905</td>\n",
       "      <td>0.136843</td>\n",
       "      <td>0.079386</td>\n",
       "      <td>-0.096353</td>\n",
       "      <td>1.000000</td>\n",
       "      <td>0.001183</td>\n",
       "      <td>-0.000959</td>\n",
       "    </tr>\n",
       "    <tr>\n",
       "      <th>pratica_esportes</th>\n",
       "      <td>-0.000195</td>\n",
       "      <td>0.001264</td>\n",
       "      <td>-0.000543</td>\n",
       "      <td>-0.000010</td>\n",
       "      <td>0.001183</td>\n",
       "      <td>1.000000</td>\n",
       "      <td>-0.001414</td>\n",
       "    </tr>\n",
       "    <tr>\n",
       "      <th>IMC</th>\n",
       "      <td>0.000657</td>\n",
       "      <td>-0.000375</td>\n",
       "      <td>-0.000338</td>\n",
       "      <td>0.000352</td>\n",
       "      <td>-0.000959</td>\n",
       "      <td>-0.001414</td>\n",
       "      <td>1.000000</td>\n",
       "    </tr>\n",
       "  </tbody>\n",
       "</table>\n",
       "</div>"
      ],
      "text/plain": [
       "                      name     idade  qt_filhos    estuda  trabalha  \\\n",
       "name              1.000000 -0.000603   0.000215 -0.000628  0.000905   \n",
       "idade            -0.000603  1.000000   0.116169 -0.138990  0.136843   \n",
       "qt_filhos         0.000215  0.116169   1.000000 -0.080367  0.079386   \n",
       "estuda           -0.000628 -0.138990  -0.080367  1.000000 -0.096353   \n",
       "trabalha          0.000905  0.136843   0.079386 -0.096353  1.000000   \n",
       "pratica_esportes -0.000195  0.001264  -0.000543 -0.000010  0.001183   \n",
       "IMC               0.000657 -0.000375  -0.000338  0.000352 -0.000959   \n",
       "\n",
       "                  pratica_esportes       IMC  \n",
       "name                     -0.000195  0.000657  \n",
       "idade                     0.001264 -0.000375  \n",
       "qt_filhos                -0.000543 -0.000338  \n",
       "estuda                   -0.000010  0.000352  \n",
       "trabalha                  0.001183 -0.000959  \n",
       "pratica_esportes          1.000000 -0.001414  \n",
       "IMC                      -0.001414  1.000000  "
      ]
     },
     "execution_count": 8,
     "metadata": {},
     "output_type": "execute_result"
    }
   ],
   "source": [
    "df_individuos.corr()"
   ]
  },
  {
   "cell_type": "code",
   "execution_count": 9,
   "id": "685a6928",
   "metadata": {},
   "outputs": [
    {
     "data": {
      "text/html": [
       "<div>\n",
       "<style scoped>\n",
       "    .dataframe tbody tr th:only-of-type {\n",
       "        vertical-align: middle;\n",
       "    }\n",
       "\n",
       "    .dataframe tbody tr th {\n",
       "        vertical-align: top;\n",
       "    }\n",
       "\n",
       "    .dataframe thead th {\n",
       "        text-align: right;\n",
       "    }\n",
       "</style>\n",
       "<table border=\"1\" class=\"dataframe\">\n",
       "  <thead>\n",
       "    <tr style=\"text-align: right;\">\n",
       "      <th></th>\n",
       "      <th>name</th>\n",
       "      <th>idade</th>\n",
       "      <th>estado_civil</th>\n",
       "      <th>qt_filhos</th>\n",
       "      <th>estuda</th>\n",
       "      <th>trabalha</th>\n",
       "      <th>pratica_esportes</th>\n",
       "      <th>transporte_mais_utilizado</th>\n",
       "      <th>IMC</th>\n",
       "    </tr>\n",
       "  </thead>\n",
       "  <tbody>\n",
       "  </tbody>\n",
       "</table>\n",
       "</div>"
      ],
      "text/plain": [
       "Empty DataFrame\n",
       "Columns: [name, idade, estado_civil, qt_filhos, estuda, trabalha, pratica_esportes, transporte_mais_utilizado, IMC]\n",
       "Index: []"
      ]
     },
     "execution_count": 9,
     "metadata": {},
     "output_type": "execute_result"
    }
   ],
   "source": [
    "df_individuos[df_individuos.duplicated(['name'], keep=False)]"
   ]
  },
  {
   "cell_type": "markdown",
   "id": "4a37f577",
   "metadata": {},
   "source": [
    "### Exploração e Tratamento dos Dados Categoricos da Tabela \"Individuos Espec\""
   ]
  },
  {
   "cell_type": "code",
   "execution_count": 10,
   "id": "152519da",
   "metadata": {},
   "outputs": [],
   "source": [
    "df_individuos['estado_civil'] = df_individuos['estado_civil'].astype('category')\n",
    "df_individuos['transporte_mais_utilizado'] = df_individuos['transporte_mais_utilizado'].astype('category')"
   ]
  },
  {
   "cell_type": "code",
   "execution_count": 11,
   "id": "57cb514b",
   "metadata": {},
   "outputs": [
    {
     "name": "stdout",
     "output_type": "stream",
     "text": [
      "<class 'pandas.core.frame.DataFrame'>\n",
      "RangeIndex: 1000000 entries, 0 to 999999\n",
      "Data columns (total 9 columns):\n",
      " #   Column                     Non-Null Count    Dtype   \n",
      "---  ------                     --------------    -----   \n",
      " 0   name                       1000000 non-null  int64   \n",
      " 1   idade                      904063 non-null   float64 \n",
      " 2   estado_civil               949927 non-null   category\n",
      " 3   qt_filhos                  971133 non-null   float64 \n",
      " 4   estuda                     959870 non-null   float64 \n",
      " 5   trabalha                   993647 non-null   float64 \n",
      " 6   pratica_esportes           850876 non-null   float64 \n",
      " 7   transporte_mais_utilizado  956967 non-null   category\n",
      " 8   IMC                        886130 non-null   float64 \n",
      "dtypes: category(2), float64(6), int64(1)\n",
      "memory usage: 55.3 MB\n"
     ]
    }
   ],
   "source": [
    "df_individuos.info()"
   ]
  },
  {
   "cell_type": "markdown",
   "id": "447a9566",
   "metadata": {},
   "source": [
    "#### Categoria \"estado civil\""
   ]
  },
  {
   "cell_type": "code",
   "execution_count": 12,
   "id": "55c6108c",
   "metadata": {},
   "outputs": [
    {
     "data": {
      "text/plain": [
       "estado_civil\n",
       "casado        265030\n",
       "divorciado    176054\n",
       "solteiro      420637\n",
       "viuvo          88206\n",
       "dtype: int64"
      ]
     },
     "execution_count": 12,
     "metadata": {},
     "output_type": "execute_result"
    }
   ],
   "source": [
    "coluna = 'estado_civil'\n",
    "agrupado = df_individuos.groupby(coluna).size()\n",
    "agrupado"
   ]
  },
  {
   "cell_type": "code",
   "execution_count": 13,
   "id": "ef517aec",
   "metadata": {},
   "outputs": [
    {
     "data": {
      "image/png": "[encoded data removed]",
      "text/plain": [
       "<Figure size 432x288 with 1 Axes>"
      ]
     },
     "metadata": {
      "needs_background": "light"
     },
     "output_type": "display_data"
    }
   ],
   "source": [
    "agrupado.plot.bar(color='gray');"
   ]
  },
  {
   "cell_type": "markdown",
   "id": "a5d502ce",
   "metadata": {},
   "source": [
    "_grafícos em tons de cinza para incluir deficiênte de daltonismo_"
   ]
  },
  {
   "cell_type": "code",
   "execution_count": 14,
   "id": "7060be62",
   "metadata": {},
   "outputs": [
    {
     "data": {
      "text/plain": [
       "50073"
      ]
     },
     "execution_count": 14,
     "metadata": {},
     "output_type": "execute_result"
    }
   ],
   "source": [
    "df_individuos[coluna].isnull().sum()"
   ]
  },
  {
   "cell_type": "code",
   "execution_count": 15,
   "id": "68a070be",
   "metadata": {},
   "outputs": [],
   "source": [
    "categorias = df_individuos[~df_individuos[coluna].isnull()][coluna].unique()\n",
    "preenchimento_homogeneo(df_individuos, coluna, categorias)"
   ]
  },
  {
   "cell_type": "code",
   "execution_count": 16,
   "id": "1690bd2f",
   "metadata": {},
   "outputs": [
    {
     "data": {
      "text/plain": [
       "0"
      ]
     },
     "execution_count": 16,
     "metadata": {},
     "output_type": "execute_result"
    }
   ],
   "source": [
    "df_individuos[coluna].isnull().sum()"
   ]
  },
  {
   "cell_type": "code",
   "execution_count": 17,
   "id": "37df2a8e",
   "metadata": {},
   "outputs": [
    {
     "data": {
      "text/plain": [
       "estado_civil\n",
       "casado        277548\n",
       "divorciado    188573\n",
       "solteiro      433155\n",
       "viuvo         100724\n",
       "dtype: int64"
      ]
     },
     "execution_count": 17,
     "metadata": {},
     "output_type": "execute_result"
    }
   ],
   "source": [
    "df_individuos.groupby(coluna).size()"
   ]
  },
  {
   "cell_type": "markdown",
   "id": "4b2d1d8e",
   "metadata": {},
   "source": [
    "#### Categoria \"transporte mais utilizado\""
   ]
  },
  {
   "cell_type": "code",
   "execution_count": 18,
   "id": "656aa6c3",
   "metadata": {},
   "outputs": [
    {
     "data": {
      "text/plain": [
       "transporte_mais_utilizado\n",
       "particular    334088\n",
       "publico       574779\n",
       "taxi           48100\n",
       "dtype: int64"
      ]
     },
     "execution_count": 18,
     "metadata": {},
     "output_type": "execute_result"
    }
   ],
   "source": [
    "coluna = 'transporte_mais_utilizado'\n",
    "agrupado = df_individuos.groupby(coluna).size()\n",
    "agrupado"
   ]
  },
  {
   "cell_type": "code",
   "execution_count": 19,
   "id": "fa4faae3",
   "metadata": {},
   "outputs": [
    {
     "data": {
      "image/png": "[encoded data removed]",
      "text/plain": [
       "<Figure size 432x288 with 1 Axes>"
      ]
     },
     "metadata": {
      "needs_background": "light"
     },
     "output_type": "display_data"
    }
   ],
   "source": [
    "agrupado.plot.bar(color='gray');"
   ]
  },
  {
   "cell_type": "code",
   "execution_count": 20,
   "id": "896f1300",
   "metadata": {},
   "outputs": [
    {
     "data": {
      "text/plain": [
       "43033"
      ]
     },
     "execution_count": 20,
     "metadata": {},
     "output_type": "execute_result"
    }
   ],
   "source": [
    "df_individuos[coluna].isnull().sum()"
   ]
  },
  {
   "cell_type": "code",
   "execution_count": 21,
   "id": "b761b886",
   "metadata": {},
   "outputs": [],
   "source": [
    "categorias = df_individuos[~df_individuos[coluna].isnull()][coluna].unique()\n",
    "preenchimento_homogeneo(df_individuos, coluna, categorias)"
   ]
  },
  {
   "cell_type": "code",
   "execution_count": 22,
   "id": "f93dfe66",
   "metadata": {},
   "outputs": [
    {
     "data": {
      "text/plain": [
       "0"
      ]
     },
     "execution_count": 22,
     "metadata": {},
     "output_type": "execute_result"
    }
   ],
   "source": [
    "df_individuos[coluna].isnull().sum()"
   ]
  },
  {
   "cell_type": "code",
   "execution_count": 23,
   "id": "34186cbc",
   "metadata": {},
   "outputs": [
    {
     "data": {
      "text/plain": [
       "transporte_mais_utilizado\n",
       "particular    348432\n",
       "publico       589124\n",
       "taxi           62444\n",
       "dtype: int64"
      ]
     },
     "execution_count": 23,
     "metadata": {},
     "output_type": "execute_result"
    }
   ],
   "source": [
    "df_individuos.groupby(coluna).size()"
   ]
  },
  {
   "cell_type": "markdown",
   "id": "f48136be",
   "metadata": {},
   "source": [
    "#### Categoria \"estuda\""
   ]
  },
  {
   "cell_type": "code",
   "execution_count": 24,
   "id": "0d0d26a2",
   "metadata": {},
   "outputs": [
    {
     "data": {
      "text/plain": [
       "estuda\n",
       "0.0    535043\n",
       "1.0    424827\n",
       "dtype: int64"
      ]
     },
     "execution_count": 24,
     "metadata": {},
     "output_type": "execute_result"
    }
   ],
   "source": [
    "coluna = 'estuda'\n",
    "agrupado = df_individuos.groupby(coluna).size()\n",
    "agrupado"
   ]
  },
  {
   "cell_type": "code",
   "execution_count": 25,
   "id": "f32602bd",
   "metadata": {},
   "outputs": [
    {
     "data": {
      "image/png": "[encoded data removed]",
      "text/plain": [
       "<Figure size 432x288 with 1 Axes>"
      ]
     },
     "metadata": {
      "needs_background": "light"
     },
     "output_type": "display_data"
    }
   ],
   "source": [
    "agrupado.plot.bar(color='gray');"
   ]
  },
  {
   "cell_type": "code",
   "execution_count": 26,
   "id": "c3187811",
   "metadata": {},
   "outputs": [
    {
     "data": {
      "text/plain": [
       "40130"
      ]
     },
     "execution_count": 26,
     "metadata": {},
     "output_type": "execute_result"
    }
   ],
   "source": [
    "df_individuos[coluna].isnull().sum()"
   ]
  },
  {
   "cell_type": "code",
   "execution_count": 27,
   "id": "beafdc84",
   "metadata": {},
   "outputs": [],
   "source": [
    "categorias = df_individuos[~df_individuos[coluna].isnull()][coluna].unique()\n",
    "preenchimento_homogeneo(df_individuos, coluna, categorias)"
   ]
  },
  {
   "cell_type": "code",
   "execution_count": 28,
   "id": "18170ec6",
   "metadata": {},
   "outputs": [
    {
     "data": {
      "text/plain": [
       "0"
      ]
     },
     "execution_count": 28,
     "metadata": {},
     "output_type": "execute_result"
    }
   ],
   "source": [
    "df_individuos[coluna].isnull().sum()"
   ]
  },
  {
   "cell_type": "code",
   "execution_count": 29,
   "id": "c0e23b0f",
   "metadata": {},
   "outputs": [
    {
     "data": {
      "text/plain": [
       "estuda\n",
       "0.0    555108\n",
       "1.0    444892\n",
       "dtype: int64"
      ]
     },
     "execution_count": 29,
     "metadata": {},
     "output_type": "execute_result"
    }
   ],
   "source": [
    "df_individuos.groupby(coluna).size()"
   ]
  },
  {
   "cell_type": "markdown",
   "id": "f3083853",
   "metadata": {},
   "source": [
    "#### Categoria \"trabalha\""
   ]
  },
  {
   "cell_type": "code",
   "execution_count": 30,
   "id": "00bf6e02",
   "metadata": {},
   "outputs": [
    {
     "data": {
      "text/plain": [
       "trabalha\n",
       "0.0    440445\n",
       "1.0    553202\n",
       "dtype: int64"
      ]
     },
     "execution_count": 30,
     "metadata": {},
     "output_type": "execute_result"
    }
   ],
   "source": [
    "coluna = 'trabalha'\n",
    "agrupado = df_individuos.groupby(coluna).size()\n",
    "agrupado"
   ]
  },
  {
   "cell_type": "code",
   "execution_count": 31,
   "id": "4343f3e3",
   "metadata": {},
   "outputs": [
    {
     "data": {
      "image/png": "[encoded data removed]",
      "text/plain": [
       "<Figure size 432x288 with 1 Axes>"
      ]
     },
     "metadata": {
      "needs_background": "light"
     },
     "output_type": "display_data"
    }
   ],
   "source": [
    "agrupado.plot.bar(color='gray');"
   ]
  },
  {
   "cell_type": "code",
   "execution_count": 32,
   "id": "9e6b4d9c",
   "metadata": {},
   "outputs": [
    {
     "data": {
      "text/plain": [
       "6353"
      ]
     },
     "execution_count": 32,
     "metadata": {},
     "output_type": "execute_result"
    }
   ],
   "source": [
    "df_individuos[coluna].isnull().sum()"
   ]
  },
  {
   "cell_type": "code",
   "execution_count": 33,
   "id": "586ed6d0",
   "metadata": {},
   "outputs": [],
   "source": [
    "categorias = df_individuos[~df_individuos[coluna].isnull()][coluna].unique()\n",
    "preenchimento_homogeneo(df_individuos, coluna, categorias)"
   ]
  },
  {
   "cell_type": "code",
   "execution_count": 34,
   "id": "c3c0efca",
   "metadata": {},
   "outputs": [
    {
     "data": {
      "text/plain": [
       "0"
      ]
     },
     "execution_count": 34,
     "metadata": {},
     "output_type": "execute_result"
    }
   ],
   "source": [
    "df_individuos[coluna].isnull().sum()"
   ]
  },
  {
   "cell_type": "code",
   "execution_count": 35,
   "id": "cf1275ab",
   "metadata": {},
   "outputs": [
    {
     "data": {
      "text/plain": [
       "trabalha\n",
       "0.0    443622\n",
       "1.0    556378\n",
       "dtype: int64"
      ]
     },
     "execution_count": 35,
     "metadata": {},
     "output_type": "execute_result"
    }
   ],
   "source": [
    "df_individuos.groupby(coluna).size()"
   ]
  },
  {
   "cell_type": "markdown",
   "id": "6c3d8659",
   "metadata": {},
   "source": [
    "#### Categoria \"pratica_esportes\""
   ]
  },
  {
   "cell_type": "code",
   "execution_count": 36,
   "id": "93638c7c",
   "metadata": {},
   "outputs": [
    {
     "data": {
      "text/plain": [
       "pratica_esportes\n",
       "0.0    340501\n",
       "1.0    510375\n",
       "dtype: int64"
      ]
     },
     "execution_count": 36,
     "metadata": {},
     "output_type": "execute_result"
    }
   ],
   "source": [
    "coluna = 'pratica_esportes'\n",
    "agrupado = df_individuos.groupby(coluna).size()\n",
    "agrupado"
   ]
  },
  {
   "cell_type": "code",
   "execution_count": 37,
   "id": "7b40a3ee",
   "metadata": {},
   "outputs": [
    {
     "data": {
      "image/png": "[encoded data removed]",
      "text/plain": [
       "<Figure size 432x288 with 1 Axes>"
      ]
     },
     "metadata": {
      "needs_background": "light"
     },
     "output_type": "display_data"
    }
   ],
   "source": [
    "agrupado.plot.bar(color='gray');"
   ]
  },
  {
   "cell_type": "code",
   "execution_count": 38,
   "id": "405de6df",
   "metadata": {},
   "outputs": [
    {
     "data": {
      "text/plain": [
       "149124"
      ]
     },
     "execution_count": 38,
     "metadata": {},
     "output_type": "execute_result"
    }
   ],
   "source": [
    "df_individuos[coluna].isnull().sum()"
   ]
  },
  {
   "cell_type": "code",
   "execution_count": 39,
   "id": "d0294f1c",
   "metadata": {},
   "outputs": [],
   "source": [
    "categorias = df_individuos[~df_individuos[coluna].isnull()][coluna].unique()\n",
    "preenchimento_homogeneo(df_individuos, coluna, categorias)"
   ]
  },
  {
   "cell_type": "code",
   "execution_count": 40,
   "id": "6d96666e",
   "metadata": {},
   "outputs": [
    {
     "data": {
      "text/plain": [
       "0"
      ]
     },
     "execution_count": 40,
     "metadata": {},
     "output_type": "execute_result"
    }
   ],
   "source": [
    "df_individuos[coluna].isnull().sum()"
   ]
  },
  {
   "cell_type": "code",
   "execution_count": 41,
   "id": "2d2dc005",
   "metadata": {},
   "outputs": [
    {
     "data": {
      "text/plain": [
       "pratica_esportes\n",
       "0.0    415063\n",
       "1.0    584937\n",
       "dtype: int64"
      ]
     },
     "execution_count": 41,
     "metadata": {},
     "output_type": "execute_result"
    }
   ],
   "source": [
    "df_individuos.groupby(coluna).size()"
   ]
  },
  {
   "cell_type": "markdown",
   "id": "1dc3be0e",
   "metadata": {},
   "source": [
    "### Exploração e Tratamento dos Dados Numéricos da Tabela \"Individuos Espec\""
   ]
  },
  {
   "cell_type": "markdown",
   "id": "51607de4",
   "metadata": {},
   "source": [
    "#### Coluna numérica \"idade\""
   ]
  },
  {
   "cell_type": "code",
   "execution_count": 42,
   "id": "816e9d87",
   "metadata": {},
   "outputs": [
    {
     "data": {
      "text/plain": [
       "count    904063.000000\n",
       "mean         30.008431\n",
       "std          10.951566\n",
       "min           0.000000\n",
       "25%          22.000000\n",
       "50%          29.000000\n",
       "75%          37.000000\n",
       "max         124.000000\n",
       "Name: idade, dtype: float64"
      ]
     },
     "execution_count": 42,
     "metadata": {},
     "output_type": "execute_result"
    }
   ],
   "source": [
    "coluna = 'idade'\n",
    "df_individuos[coluna].describe()"
   ]
  },
  {
   "cell_type": "code",
   "execution_count": 43,
   "id": "04cbaae6",
   "metadata": {},
   "outputs": [
    {
     "data": {
      "image/png": "[encoded data removed]",
      "text/plain": [
       "<Figure size 432x288 with 1 Axes>"
      ]
     },
     "metadata": {
      "needs_background": "light"
     },
     "output_type": "display_data"
    }
   ],
   "source": [
    "sbn.boxplot(data=df_individuos[coluna], color='gray', orient='h').set_title(coluna);"
   ]
  },
  {
   "cell_type": "code",
   "execution_count": 44,
   "id": "bd4c966b",
   "metadata": {},
   "outputs": [
    {
     "data": {
      "image/png": "[encoded data removed]",
      "text/plain": [
       "<Figure size 432x288 with 1 Axes>"
      ]
     },
     "metadata": {
      "needs_background": "light"
     },
     "output_type": "display_data"
    }
   ],
   "source": [
    "df_individuos[coluna].hist(bins=30, color='gray');"
   ]
  },
  {
   "cell_type": "code",
   "execution_count": 45,
   "id": "863bf452",
   "metadata": {},
   "outputs": [
    {
     "data": {
      "text/plain": [
       "95937"
      ]
     },
     "execution_count": 45,
     "metadata": {},
     "output_type": "execute_result"
    }
   ],
   "source": [
    "df_individuos[coluna].isnull().sum()"
   ]
  },
  {
   "cell_type": "code",
   "execution_count": 46,
   "id": "de84ce19",
   "metadata": {},
   "outputs": [],
   "source": [
    "preenchimento_randomico(df_individuos, coluna)"
   ]
  },
  {
   "cell_type": "code",
   "execution_count": 47,
   "id": "5197710e",
   "metadata": {},
   "outputs": [
    {
     "data": {
      "text/plain": [
       "0"
      ]
     },
     "execution_count": 47,
     "metadata": {},
     "output_type": "execute_result"
    }
   ],
   "source": [
    "df_individuos[coluna].isnull().sum()"
   ]
  },
  {
   "cell_type": "code",
   "execution_count": 48,
   "id": "0a8a5945",
   "metadata": {},
   "outputs": [
    {
     "data": {
      "text/plain": [
       "count    1000000.000000\n",
       "mean          29.928561\n",
       "std           10.564125\n",
       "min            0.000000\n",
       "25%           22.000000\n",
       "50%           29.000000\n",
       "75%           36.000000\n",
       "max          124.000000\n",
       "Name: idade, dtype: float64"
      ]
     },
     "execution_count": 48,
     "metadata": {},
     "output_type": "execute_result"
    }
   ],
   "source": [
    "df_individuos[coluna].describe()"
   ]
  },
  {
   "cell_type": "code",
   "execution_count": 49,
   "id": "a21c95dc",
   "metadata": {},
   "outputs": [
    {
     "data": {
      "image/png": "[encoded data removed]",
      "text/plain": [
       "<Figure size 432x288 with 1 Axes>"
      ]
     },
     "metadata": {
      "needs_background": "light"
     },
     "output_type": "display_data"
    }
   ],
   "source": [
    "sbn.boxplot(data=df_individuos[coluna], color='gray', orient='h').set_title(coluna);"
   ]
  },
  {
   "cell_type": "code",
   "execution_count": 50,
   "id": "91935a6d",
   "metadata": {},
   "outputs": [
    {
     "data": {
      "image/png": "[encoded data removed]",
      "text/plain": [
       "<Figure size 432x288 with 1 Axes>"
      ]
     },
     "metadata": {
      "needs_background": "light"
     },
     "output_type": "display_data"
    }
   ],
   "source": [
    "df_individuos[coluna].hist(bins=30, color='gray');"
   ]
  },
  {
   "cell_type": "markdown",
   "id": "2794fab8",
   "metadata": {},
   "source": [
    "#### Coluna numérica \"quantidade de filhos\""
   ]
  },
  {
   "cell_type": "code",
   "execution_count": 51,
   "id": "6453e160",
   "metadata": {},
   "outputs": [
    {
     "data": {
      "text/plain": [
       "count    971133.000000\n",
       "mean          0.928406\n",
       "std           0.997289\n",
       "min           0.000000\n",
       "25%           0.000000\n",
       "50%           1.000000\n",
       "75%           1.000000\n",
       "max           9.000000\n",
       "Name: qt_filhos, dtype: float64"
      ]
     },
     "execution_count": 51,
     "metadata": {},
     "output_type": "execute_result"
    }
   ],
   "source": [
    "coluna = 'qt_filhos'\n",
    "df_individuos[coluna].describe()"
   ]
  },
  {
   "cell_type": "code",
   "execution_count": 52,
   "id": "d5960c68",
   "metadata": {},
   "outputs": [
    {
     "data": {
      "image/png": "[encoded data removed]",
      "text/plain": [
       "<Figure size 432x288 with 1 Axes>"
      ]
     },
     "metadata": {
      "needs_background": "light"
     },
     "output_type": "display_data"
    }
   ],
   "source": [
    "sbn.boxplot(data=df_individuos[coluna], color='gray', orient='h').set_title(coluna);"
   ]
  },
  {
   "cell_type": "code",
   "execution_count": 53,
   "id": "9b57e86a",
   "metadata": {},
   "outputs": [
    {
     "data": {
      "image/png": "[encoded data removed]",
      "text/plain": [
       "<Figure size 432x288 with 1 Axes>"
      ]
     },
     "metadata": {
      "needs_background": "light"
     },
     "output_type": "display_data"
    }
   ],
   "source": [
    "df_individuos[coluna].hist(bins=20, color='gray');"
   ]
  },
  {
   "cell_type": "code",
   "execution_count": 54,
   "id": "8731e82a",
   "metadata": {},
   "outputs": [
    {
     "data": {
      "text/plain": [
       "28867"
      ]
     },
     "execution_count": 54,
     "metadata": {},
     "output_type": "execute_result"
    }
   ],
   "source": [
    "df_individuos[coluna].isnull().sum()"
   ]
  },
  {
   "cell_type": "code",
   "execution_count": 55,
   "id": "af2757d5",
   "metadata": {},
   "outputs": [],
   "source": [
    "categorias = [0.0, 1.0]\n",
    "preenchimento_homogeneo(df_individuos, coluna, categorias)"
   ]
  },
  {
   "cell_type": "code",
   "execution_count": 56,
   "id": "68a25d59",
   "metadata": {},
   "outputs": [
    {
     "data": {
      "text/plain": [
       "0"
      ]
     },
     "execution_count": 56,
     "metadata": {},
     "output_type": "execute_result"
    }
   ],
   "source": [
    "df_individuos[coluna].isnull().sum()"
   ]
  },
  {
   "cell_type": "code",
   "execution_count": 57,
   "id": "47fa7a03",
   "metadata": {},
   "outputs": [
    {
     "data": {
      "text/plain": [
       "count    1000000.000000\n",
       "mean           0.916039\n",
       "std            0.989058\n",
       "min            0.000000\n",
       "25%            0.000000\n",
       "50%            1.000000\n",
       "75%            1.000000\n",
       "max            9.000000\n",
       "Name: qt_filhos, dtype: float64"
      ]
     },
     "execution_count": 57,
     "metadata": {},
     "output_type": "execute_result"
    }
   ],
   "source": [
    "df_individuos[coluna].describe()"
   ]
  },
  {
   "cell_type": "code",
   "execution_count": 58,
   "id": "e30b8803",
   "metadata": {},
   "outputs": [
    {
     "data": {
      "image/png": "[encoded data removed]",
      "text/plain": [
       "<Figure size 432x288 with 1 Axes>"
      ]
     },
     "metadata": {
      "needs_background": "light"
     },
     "output_type": "display_data"
    }
   ],
   "source": [
    "sbn.boxplot(data=df_individuos[coluna], color='gray', orient='h').set_title(coluna);"
   ]
  },
  {
   "cell_type": "code",
   "execution_count": 59,
   "id": "d7724abd",
   "metadata": {},
   "outputs": [
    {
     "data": {
      "image/png": "[encoded data removed]",
      "text/plain": [
       "<Figure size 432x288 with 1 Axes>"
      ]
     },
     "metadata": {
      "needs_background": "light"
     },
     "output_type": "display_data"
    }
   ],
   "source": [
    "df_individuos[coluna].hist(bins=20, color='gray');"
   ]
  },
  {
   "cell_type": "markdown",
   "id": "87ecd0d5",
   "metadata": {},
   "source": [
    "#### Coluna numérica \"IMC\""
   ]
  },
  {
   "cell_type": "code",
   "execution_count": 60,
   "id": "adc0c8ce",
   "metadata": {},
   "outputs": [
    {
     "data": {
      "text/plain": [
       "count    886130.000000\n",
       "mean         22.472079\n",
       "std           7.073692\n",
       "min           4.852828\n",
       "25%          17.420851\n",
       "50%          21.431200\n",
       "75%          26.378197\n",
       "max          89.158204\n",
       "Name: IMC, dtype: float64"
      ]
     },
     "execution_count": 60,
     "metadata": {},
     "output_type": "execute_result"
    }
   ],
   "source": [
    "coluna = 'IMC'\n",
    "df_individuos[coluna].describe()"
   ]
  },
  {
   "cell_type": "code",
   "execution_count": 61,
   "id": "44c8c980",
   "metadata": {},
   "outputs": [
    {
     "data": {
      "image/png": "[encoded data removed]",
      "text/plain": [
       "<Figure size 432x288 with 1 Axes>"
      ]
     },
     "metadata": {
      "needs_background": "light"
     },
     "output_type": "display_data"
    }
   ],
   "source": [
    "sbn.boxplot(data=df_individuos[coluna], color='gray', orient='h').set_title(coluna);"
   ]
  },
  {
   "cell_type": "code",
   "execution_count": 62,
   "id": "40857b7d",
   "metadata": {},
   "outputs": [
    {
     "data": {
      "image/png": "[encoded data removed]",
      "text/plain": [
       "<Figure size 432x288 with 1 Axes>"
      ]
     },
     "metadata": {
      "needs_background": "light"
     },
     "output_type": "display_data"
    }
   ],
   "source": [
    "df_individuos[coluna].hist(bins=30, color='gray').set_title(coluna);"
   ]
  },
  {
   "cell_type": "code",
   "execution_count": 63,
   "id": "ff3d3e72",
   "metadata": {},
   "outputs": [
    {
     "data": {
      "text/plain": [
       "113870"
      ]
     },
     "execution_count": 63,
     "metadata": {},
     "output_type": "execute_result"
    }
   ],
   "source": [
    "df_individuos[coluna].isnull().sum()"
   ]
  },
  {
   "cell_type": "code",
   "execution_count": 64,
   "id": "78ddbe4a",
   "metadata": {},
   "outputs": [],
   "source": [
    "preenchimento_randomico(df_individuos, coluna)"
   ]
  },
  {
   "cell_type": "code",
   "execution_count": 65,
   "id": "9f1f2589",
   "metadata": {},
   "outputs": [
    {
     "data": {
      "text/plain": [
       "0"
      ]
     },
     "execution_count": 65,
     "metadata": {},
     "output_type": "execute_result"
    }
   ],
   "source": [
    "df_individuos[coluna].isnull().sum()"
   ]
  },
  {
   "cell_type": "code",
   "execution_count": 66,
   "id": "bbf38e97",
   "metadata": {},
   "outputs": [
    {
     "data": {
      "image/png": "[encoded data removed]",
      "text/plain": [
       "<Figure size 432x288 with 1 Axes>"
      ]
     },
     "metadata": {
      "needs_background": "light"
     },
     "output_type": "display_data"
    }
   ],
   "source": [
    "sbn.boxplot(data=df_individuos[coluna], color='gray', orient='h').set_title(coluna);"
   ]
  },
  {
   "cell_type": "code",
   "execution_count": 67,
   "id": "e31b13e7",
   "metadata": {},
   "outputs": [
    {
     "data": {
      "image/png": "[encoded data removed]",
      "text/plain": [
       "<Figure size 432x288 with 1 Axes>"
      ]
     },
     "metadata": {
      "needs_background": "light"
     },
     "output_type": "display_data"
    }
   ],
   "source": [
    "df_individuos[coluna].hist(bins=30, color='gray');"
   ]
  },
  {
   "cell_type": "markdown",
   "id": "0e0a23c2",
   "metadata": {},
   "source": [
    "### Salvando a Tabela \"Individuos Espec\" Tratada"
   ]
  },
  {
   "cell_type": "markdown",
   "id": "8103352c",
   "metadata": {},
   "source": [
    "#### Verificando se ainda existe algum dado faltante"
   ]
  },
  {
   "cell_type": "code",
   "execution_count": 68,
   "id": "4826af1b",
   "metadata": {},
   "outputs": [
    {
     "data": {
      "text/plain": [
       "name                         0\n",
       "idade                        0\n",
       "estado_civil                 0\n",
       "qt_filhos                    0\n",
       "estuda                       0\n",
       "trabalha                     0\n",
       "pratica_esportes             0\n",
       "transporte_mais_utilizado    0\n",
       "IMC                          0\n",
       "dtype: int64"
      ]
     },
     "execution_count": 68,
     "metadata": {},
     "output_type": "execute_result"
    }
   ],
   "source": [
    "df_individuos.isnull().sum()"
   ]
  },
  {
   "cell_type": "code",
   "execution_count": 69,
   "id": "db597604",
   "metadata": {},
   "outputs": [
    {
     "data": {
      "text/html": [
       "<div>\n",
       "<style scoped>\n",
       "    .dataframe tbody tr th:only-of-type {\n",
       "        vertical-align: middle;\n",
       "    }\n",
       "\n",
       "    .dataframe tbody tr th {\n",
       "        vertical-align: top;\n",
       "    }\n",
       "\n",
       "    .dataframe thead th {\n",
       "        text-align: right;\n",
       "    }\n",
       "</style>\n",
       "<table border=\"1\" class=\"dataframe\">\n",
       "  <thead>\n",
       "    <tr style=\"text-align: right;\">\n",
       "      <th></th>\n",
       "      <th>name</th>\n",
       "      <th>idade</th>\n",
       "      <th>estado_civil</th>\n",
       "      <th>qt_filhos</th>\n",
       "      <th>estuda</th>\n",
       "      <th>trabalha</th>\n",
       "      <th>pratica_esportes</th>\n",
       "      <th>transporte_mais_utilizado</th>\n",
       "      <th>IMC</th>\n",
       "    </tr>\n",
       "  </thead>\n",
       "  <tbody>\n",
       "    <tr>\n",
       "      <th>0</th>\n",
       "      <td>1</td>\n",
       "      <td>44.0</td>\n",
       "      <td>divorciado</td>\n",
       "      <td>1.0</td>\n",
       "      <td>1.0</td>\n",
       "      <td>0.0</td>\n",
       "      <td>1.0</td>\n",
       "      <td>publico</td>\n",
       "      <td>22.200956</td>\n",
       "    </tr>\n",
       "    <tr>\n",
       "      <th>1</th>\n",
       "      <td>2</td>\n",
       "      <td>24.0</td>\n",
       "      <td>casado</td>\n",
       "      <td>0.0</td>\n",
       "      <td>0.0</td>\n",
       "      <td>0.0</td>\n",
       "      <td>1.0</td>\n",
       "      <td>publico</td>\n",
       "      <td>25.378720</td>\n",
       "    </tr>\n",
       "    <tr>\n",
       "      <th>2</th>\n",
       "      <td>3</td>\n",
       "      <td>35.0</td>\n",
       "      <td>solteiro</td>\n",
       "      <td>1.0</td>\n",
       "      <td>0.0</td>\n",
       "      <td>0.0</td>\n",
       "      <td>1.0</td>\n",
       "      <td>particular</td>\n",
       "      <td>19.952393</td>\n",
       "    </tr>\n",
       "    <tr>\n",
       "      <th>3</th>\n",
       "      <td>4</td>\n",
       "      <td>50.0</td>\n",
       "      <td>casado</td>\n",
       "      <td>1.0</td>\n",
       "      <td>1.0</td>\n",
       "      <td>1.0</td>\n",
       "      <td>0.0</td>\n",
       "      <td>publico</td>\n",
       "      <td>26.732053</td>\n",
       "    </tr>\n",
       "    <tr>\n",
       "      <th>4</th>\n",
       "      <td>5</td>\n",
       "      <td>30.0</td>\n",
       "      <td>solteiro</td>\n",
       "      <td>2.0</td>\n",
       "      <td>1.0</td>\n",
       "      <td>0.0</td>\n",
       "      <td>1.0</td>\n",
       "      <td>publico</td>\n",
       "      <td>15.295668</td>\n",
       "    </tr>\n",
       "    <tr>\n",
       "      <th>...</th>\n",
       "      <td>...</td>\n",
       "      <td>...</td>\n",
       "      <td>...</td>\n",
       "      <td>...</td>\n",
       "      <td>...</td>\n",
       "      <td>...</td>\n",
       "      <td>...</td>\n",
       "      <td>...</td>\n",
       "      <td>...</td>\n",
       "    </tr>\n",
       "    <tr>\n",
       "      <th>999995</th>\n",
       "      <td>999996</td>\n",
       "      <td>34.0</td>\n",
       "      <td>casado</td>\n",
       "      <td>1.0</td>\n",
       "      <td>0.0</td>\n",
       "      <td>1.0</td>\n",
       "      <td>1.0</td>\n",
       "      <td>publico</td>\n",
       "      <td>17.556771</td>\n",
       "    </tr>\n",
       "    <tr>\n",
       "      <th>999996</th>\n",
       "      <td>999997</td>\n",
       "      <td>40.0</td>\n",
       "      <td>casado</td>\n",
       "      <td>1.0</td>\n",
       "      <td>0.0</td>\n",
       "      <td>1.0</td>\n",
       "      <td>1.0</td>\n",
       "      <td>particular</td>\n",
       "      <td>24.848402</td>\n",
       "    </tr>\n",
       "    <tr>\n",
       "      <th>999997</th>\n",
       "      <td>999998</td>\n",
       "      <td>30.0</td>\n",
       "      <td>divorciado</td>\n",
       "      <td>1.0</td>\n",
       "      <td>0.0</td>\n",
       "      <td>0.0</td>\n",
       "      <td>1.0</td>\n",
       "      <td>publico</td>\n",
       "      <td>20.993898</td>\n",
       "    </tr>\n",
       "    <tr>\n",
       "      <th>999998</th>\n",
       "      <td>999999</td>\n",
       "      <td>33.0</td>\n",
       "      <td>casado</td>\n",
       "      <td>0.0</td>\n",
       "      <td>1.0</td>\n",
       "      <td>1.0</td>\n",
       "      <td>1.0</td>\n",
       "      <td>publico</td>\n",
       "      <td>16.979569</td>\n",
       "    </tr>\n",
       "    <tr>\n",
       "      <th>999999</th>\n",
       "      <td>1000000</td>\n",
       "      <td>22.0</td>\n",
       "      <td>solteiro</td>\n",
       "      <td>0.0</td>\n",
       "      <td>0.0</td>\n",
       "      <td>0.0</td>\n",
       "      <td>0.0</td>\n",
       "      <td>publico</td>\n",
       "      <td>24.018825</td>\n",
       "    </tr>\n",
       "  </tbody>\n",
       "</table>\n",
       "<p>1000000 rows × 9 columns</p>\n",
       "</div>"
      ],
      "text/plain": [
       "           name  idade estado_civil  qt_filhos  estuda  trabalha  \\\n",
       "0             1   44.0   divorciado        1.0     1.0       0.0   \n",
       "1             2   24.0       casado        0.0     0.0       0.0   \n",
       "2             3   35.0     solteiro        1.0     0.0       0.0   \n",
       "3             4   50.0       casado        1.0     1.0       1.0   \n",
       "4             5   30.0     solteiro        2.0     1.0       0.0   \n",
       "...         ...    ...          ...        ...     ...       ...   \n",
       "999995   999996   34.0       casado        1.0     0.0       1.0   \n",
       "999996   999997   40.0       casado        1.0     0.0       1.0   \n",
       "999997   999998   30.0   divorciado        1.0     0.0       0.0   \n",
       "999998   999999   33.0       casado        0.0     1.0       1.0   \n",
       "999999  1000000   22.0     solteiro        0.0     0.0       0.0   \n",
       "\n",
       "        pratica_esportes transporte_mais_utilizado        IMC  \n",
       "0                    1.0                   publico  22.200956  \n",
       "1                    1.0                   publico  25.378720  \n",
       "2                    1.0                particular  19.952393  \n",
       "3                    0.0                   publico  26.732053  \n",
       "4                    1.0                   publico  15.295668  \n",
       "...                  ...                       ...        ...  \n",
       "999995               1.0                   publico  17.556771  \n",
       "999996               1.0                particular  24.848402  \n",
       "999997               1.0                   publico  20.993898  \n",
       "999998               1.0                   publico  16.979569  \n",
       "999999               0.0                   publico  24.018825  \n",
       "\n",
       "[1000000 rows x 9 columns]"
      ]
     },
     "execution_count": 69,
     "metadata": {},
     "output_type": "execute_result"
    }
   ],
   "source": [
    "file = 'individuos_espec_tratada.csv'\n",
    "df_individuos.to_csv(file, sep=';', index=False)\n",
    "df_individuos_tratada = pd.read_csv(file, sep=';')\n",
    "df_individuos_tratada"
   ]
  },
  {
   "cell_type": "markdown",
   "id": "25115dee",
   "metadata": {},
   "source": [
    "----------------------------"
   ]
  },
  {
   "cell_type": "markdown",
   "id": "299a2b14",
   "metadata": {},
   "source": [
    "## Analise da Tabela \"Conexoes Espec\""
   ]
  },
  {
   "cell_type": "code",
   "execution_count": 70,
   "id": "b4d07bf4",
   "metadata": {},
   "outputs": [
    {
     "data": {
      "text/html": [
       "<div>\n",
       "<style scoped>\n",
       "    .dataframe tbody tr th:only-of-type {\n",
       "        vertical-align: middle;\n",
       "    }\n",
       "\n",
       "    .dataframe tbody tr th {\n",
       "        vertical-align: top;\n",
       "    }\n",
       "\n",
       "    .dataframe thead th {\n",
       "        text-align: right;\n",
       "    }\n",
       "</style>\n",
       "<table border=\"1\" class=\"dataframe\">\n",
       "  <thead>\n",
       "    <tr style=\"text-align: right;\">\n",
       "      <th></th>\n",
       "      <th>V1</th>\n",
       "      <th>V2</th>\n",
       "      <th>grau</th>\n",
       "      <th>proximidade</th>\n",
       "      <th>prob_V1_V2</th>\n",
       "    </tr>\n",
       "  </thead>\n",
       "  <tbody>\n",
       "    <tr>\n",
       "      <th>0</th>\n",
       "      <td>1</td>\n",
       "      <td>2</td>\n",
       "      <td>trabalho</td>\n",
       "      <td>visita_frequente</td>\n",
       "      <td>0.589462</td>\n",
       "    </tr>\n",
       "    <tr>\n",
       "      <th>1</th>\n",
       "      <td>1</td>\n",
       "      <td>3</td>\n",
       "      <td>trabalho</td>\n",
       "      <td>visita_rara</td>\n",
       "      <td>0.708465</td>\n",
       "    </tr>\n",
       "    <tr>\n",
       "      <th>2</th>\n",
       "      <td>2</td>\n",
       "      <td>4</td>\n",
       "      <td>trabalho</td>\n",
       "      <td>visita_casual</td>\n",
       "      <td>NaN</td>\n",
       "    </tr>\n",
       "    <tr>\n",
       "      <th>3</th>\n",
       "      <td>2</td>\n",
       "      <td>5</td>\n",
       "      <td>trabalho</td>\n",
       "      <td>visita_rara</td>\n",
       "      <td>0.638842</td>\n",
       "    </tr>\n",
       "    <tr>\n",
       "      <th>4</th>\n",
       "      <td>3</td>\n",
       "      <td>6</td>\n",
       "      <td>amigos</td>\n",
       "      <td>mora_junto</td>\n",
       "      <td>NaN</td>\n",
       "    </tr>\n",
       "    <tr>\n",
       "      <th>...</th>\n",
       "      <td>...</td>\n",
       "      <td>...</td>\n",
       "      <td>...</td>\n",
       "      <td>...</td>\n",
       "      <td>...</td>\n",
       "    </tr>\n",
       "    <tr>\n",
       "      <th>999994</th>\n",
       "      <td>499998</td>\n",
       "      <td>999996</td>\n",
       "      <td>trabalho</td>\n",
       "      <td>visita_rara</td>\n",
       "      <td>NaN</td>\n",
       "    </tr>\n",
       "    <tr>\n",
       "      <th>999995</th>\n",
       "      <td>499998</td>\n",
       "      <td>999997</td>\n",
       "      <td>trabalho</td>\n",
       "      <td>visita_rara</td>\n",
       "      <td>NaN</td>\n",
       "    </tr>\n",
       "    <tr>\n",
       "      <th>999996</th>\n",
       "      <td>499999</td>\n",
       "      <td>999998</td>\n",
       "      <td>familia</td>\n",
       "      <td>visita_casual</td>\n",
       "      <td>0.451662</td>\n",
       "    </tr>\n",
       "    <tr>\n",
       "      <th>999997</th>\n",
       "      <td>499999</td>\n",
       "      <td>999999</td>\n",
       "      <td>familia</td>\n",
       "      <td>visita_rara</td>\n",
       "      <td>0.186973</td>\n",
       "    </tr>\n",
       "    <tr>\n",
       "      <th>999998</th>\n",
       "      <td>500000</td>\n",
       "      <td>1000000</td>\n",
       "      <td>familia</td>\n",
       "      <td>visita_rara</td>\n",
       "      <td>NaN</td>\n",
       "    </tr>\n",
       "  </tbody>\n",
       "</table>\n",
       "<p>999999 rows × 5 columns</p>\n",
       "</div>"
      ],
      "text/plain": [
       "            V1       V2      grau       proximidade  prob_V1_V2\n",
       "0            1        2  trabalho  visita_frequente    0.589462\n",
       "1            1        3  trabalho       visita_rara    0.708465\n",
       "2            2        4  trabalho     visita_casual         NaN\n",
       "3            2        5  trabalho       visita_rara    0.638842\n",
       "4            3        6    amigos        mora_junto         NaN\n",
       "...        ...      ...       ...               ...         ...\n",
       "999994  499998   999996  trabalho       visita_rara         NaN\n",
       "999995  499998   999997  trabalho       visita_rara         NaN\n",
       "999996  499999   999998   familia     visita_casual    0.451662\n",
       "999997  499999   999999   familia       visita_rara    0.186973\n",
       "999998  500000  1000000   familia       visita_rara         NaN\n",
       "\n",
       "[999999 rows x 5 columns]"
      ]
     },
     "execution_count": 70,
     "metadata": {},
     "output_type": "execute_result"
    }
   ],
   "source": [
    "df_conexoes = pd.read_csv(file2, sep=';')\n",
    "df_conexoes"
   ]
  },
  {
   "cell_type": "code",
   "execution_count": 71,
   "id": "2d8d9492",
   "metadata": {},
   "outputs": [
    {
     "name": "stdout",
     "output_type": "stream",
     "text": [
      "<class 'pandas.core.frame.DataFrame'>\n",
      "RangeIndex: 999999 entries, 0 to 999998\n",
      "Data columns (total 5 columns):\n",
      " #   Column       Non-Null Count   Dtype  \n",
      "---  ------       --------------   -----  \n",
      " 0   V1           999999 non-null  int64  \n",
      " 1   V2           999999 non-null  int64  \n",
      " 2   grau         999999 non-null  object \n",
      " 3   proximidade  999999 non-null  object \n",
      " 4   prob_V1_V2   499999 non-null  float64\n",
      "dtypes: float64(1), int64(2), object(2)\n",
      "memory usage: 38.1+ MB\n"
     ]
    }
   ],
   "source": [
    "df_conexoes.info()"
   ]
  },
  {
   "cell_type": "code",
   "execution_count": 72,
   "id": "d1a8523e",
   "metadata": {},
   "outputs": [],
   "source": [
    "df_conexoes['grau'] = df_conexoes['grau'].astype('category')\n",
    "df_conexoes['proximidade'] = df_conexoes['proximidade'].astype('category')"
   ]
  },
  {
   "cell_type": "code",
   "execution_count": 73,
   "id": "16c03d06",
   "metadata": {},
   "outputs": [
    {
     "data": {
      "text/plain": [
       "V1                  0\n",
       "V2                  0\n",
       "grau                0\n",
       "proximidade         0\n",
       "prob_V1_V2     500000\n",
       "dtype: int64"
      ]
     },
     "execution_count": 73,
     "metadata": {},
     "output_type": "execute_result"
    }
   ],
   "source": [
    "df_conexoes.isnull().sum()"
   ]
  },
  {
   "cell_type": "markdown",
   "id": "d43f4f42",
   "metadata": {},
   "source": [
    "### Análise Exploratória dos Dados da Tabela \"Conexoes Espec\" "
   ]
  },
  {
   "cell_type": "code",
   "execution_count": 74,
   "id": "67c30691",
   "metadata": {},
   "outputs": [
    {
     "data": {
      "text/plain": [
       "grau\n",
       "amigos      332965\n",
       "familia     333486\n",
       "trabalho    333548\n",
       "dtype: int64"
      ]
     },
     "execution_count": 74,
     "metadata": {},
     "output_type": "execute_result"
    }
   ],
   "source": [
    "coluna = 'grau'\n",
    "agrupado = df_conexoes.groupby(coluna).size()\n",
    "agrupado"
   ]
  },
  {
   "cell_type": "code",
   "execution_count": 75,
   "id": "e67768a7",
   "metadata": {},
   "outputs": [
    {
     "data": {
      "image/png": "[encoded data removed]",
      "text/plain": [
       "<Figure size 432x288 with 1 Axes>"
      ]
     },
     "metadata": {
      "needs_background": "light"
     },
     "output_type": "display_data"
    }
   ],
   "source": [
    "agrupado.plot.bar(color='gray');"
   ]
  },
  {
   "cell_type": "code",
   "execution_count": 76,
   "id": "0360018e",
   "metadata": {},
   "outputs": [
    {
     "data": {
      "text/plain": [
       "proximidade\n",
       "mora_junto          100290\n",
       "visita_casual       299848\n",
       "visita_frequente    199623\n",
       "visita_rara         400238\n",
       "dtype: int64"
      ]
     },
     "execution_count": 76,
     "metadata": {},
     "output_type": "execute_result"
    }
   ],
   "source": [
    "coluna = 'proximidade'\n",
    "agrupado = df_conexoes.groupby(coluna).size()\n",
    "agrupado"
   ]
  },
  {
   "cell_type": "code",
   "execution_count": 77,
   "id": "4be6e0da",
   "metadata": {},
   "outputs": [
    {
     "data": {
      "image/png": "[encoded data removed]",
      "text/plain": [
       "<Figure size 432x288 with 1 Axes>"
      ]
     },
     "metadata": {
      "needs_background": "light"
     },
     "output_type": "display_data"
    }
   ],
   "source": [
    "agrupado.plot.bar(color='gray');"
   ]
  },
  {
   "cell_type": "code",
   "execution_count": 78,
   "id": "dfc04bef",
   "metadata": {},
   "outputs": [
    {
     "data": {
      "text/plain": [
       "count    499999.000000\n",
       "mean          0.485162\n",
       "std           0.173963\n",
       "min           0.074462\n",
       "25%           0.351677\n",
       "50%           0.486413\n",
       "75%           0.618210\n",
       "max           0.942245\n",
       "Name: prob_V1_V2, dtype: float64"
      ]
     },
     "execution_count": 78,
     "metadata": {},
     "output_type": "execute_result"
    }
   ],
   "source": [
    "coluna = 'prob_V1_V2'\n",
    "df_conexoes[coluna].describe()"
   ]
  },
  {
   "cell_type": "code",
   "execution_count": 79,
   "id": "5c9e9e42",
   "metadata": {},
   "outputs": [
    {
     "data": {
      "image/png": "[encoded data removed]",
      "text/plain": [
       "<Figure size 432x288 with 1 Axes>"
      ]
     },
     "metadata": {
      "needs_background": "light"
     },
     "output_type": "display_data"
    }
   ],
   "source": [
    "sbn.boxplot(data=df_conexoes[coluna], color='gray', orient='h').set_title(coluna);"
   ]
  },
  {
   "cell_type": "code",
   "execution_count": 80,
   "id": "ece6be22",
   "metadata": {},
   "outputs": [
    {
     "data": {
      "image/png": "[encoded data removed]",
      "text/plain": [
       "<Figure size 432x288 with 1 Axes>"
      ]
     },
     "metadata": {
      "needs_background": "light"
     },
     "output_type": "display_data"
    }
   ],
   "source": [
    "sbn.distplot(df_conexoes[coluna], color='gray');"
   ]
  },
  {
   "cell_type": "code",
   "execution_count": 98,
   "id": "22c692c1",
   "metadata": {},
   "outputs": [
    {
     "data": {
      "image/png": "[encoded data removed]",
      "text/plain": [
       "<Figure size 432x288 with 1 Axes>"
      ]
     },
     "metadata": {},
     "output_type": "display_data"
    }
   ],
   "source": [
    "labels = ['Baixo', 'Médio', 'Alto']\n",
    "df_calculo_contagio = df_conexoes\n",
    "df_calculo_contagio['nivel'] = pd.qcut(df_calculo_contagio['prob_V1_V2'], 3, labels=labels)\n",
    "niveis_contagio = df_calculo_contagio.groupby('nivel').prob_V1_V2.sum();\n",
    "colours = {'Baixo': 'C2',\n",
    "           'Médio': 'C8',\n",
    "           'Alto': 'C3'}\n",
    "niveis_contagio.plot.pie(autopct='%1.1f%%', colors=[colours[key] for key in labels],\n",
    "        shadow=False, startangle=90);\n",
    "plt.title('Percentual de níveis de contágio da população');\n",
    "plt.ylabel('');"
   ]
  },
  {
   "cell_type": "markdown",
   "id": "8b0d55c8",
   "metadata": {},
   "source": [
    "---------"
   ]
  },
  {
   "cell_type": "markdown",
   "id": "51beaa7b",
   "metadata": {},
   "source": [
    "## Juntando os dados da tabela Conexoes com os dados dos Indivíduos"
   ]
  },
  {
   "cell_type": "code",
   "execution_count": 81,
   "id": "32b5b5c6",
   "metadata": {},
   "outputs": [
    {
     "data": {
      "text/html": [
       "<div>\n",
       "<style scoped>\n",
       "    .dataframe tbody tr th:only-of-type {\n",
       "        vertical-align: middle;\n",
       "    }\n",
       "\n",
       "    .dataframe tbody tr th {\n",
       "        vertical-align: top;\n",
       "    }\n",
       "\n",
       "    .dataframe thead th {\n",
       "        text-align: right;\n",
       "    }\n",
       "</style>\n",
       "<table border=\"1\" class=\"dataframe\">\n",
       "  <thead>\n",
       "    <tr style=\"text-align: right;\">\n",
       "      <th></th>\n",
       "      <th>V1</th>\n",
       "      <th>V2</th>\n",
       "      <th>grau</th>\n",
       "      <th>proximidade</th>\n",
       "      <th>prob_V1_V2</th>\n",
       "    </tr>\n",
       "  </thead>\n",
       "  <tbody>\n",
       "    <tr>\n",
       "      <th>0</th>\n",
       "      <td>1</td>\n",
       "      <td>2</td>\n",
       "      <td>trabalho</td>\n",
       "      <td>visita_frequente</td>\n",
       "      <td>0.589462</td>\n",
       "    </tr>\n",
       "    <tr>\n",
       "      <th>1</th>\n",
       "      <td>1</td>\n",
       "      <td>3</td>\n",
       "      <td>trabalho</td>\n",
       "      <td>visita_rara</td>\n",
       "      <td>0.708465</td>\n",
       "    </tr>\n",
       "    <tr>\n",
       "      <th>2</th>\n",
       "      <td>2</td>\n",
       "      <td>4</td>\n",
       "      <td>trabalho</td>\n",
       "      <td>visita_casual</td>\n",
       "      <td>NaN</td>\n",
       "    </tr>\n",
       "    <tr>\n",
       "      <th>3</th>\n",
       "      <td>2</td>\n",
       "      <td>5</td>\n",
       "      <td>trabalho</td>\n",
       "      <td>visita_rara</td>\n",
       "      <td>0.638842</td>\n",
       "    </tr>\n",
       "    <tr>\n",
       "      <th>4</th>\n",
       "      <td>3</td>\n",
       "      <td>6</td>\n",
       "      <td>amigos</td>\n",
       "      <td>mora_junto</td>\n",
       "      <td>NaN</td>\n",
       "    </tr>\n",
       "    <tr>\n",
       "      <th>...</th>\n",
       "      <td>...</td>\n",
       "      <td>...</td>\n",
       "      <td>...</td>\n",
       "      <td>...</td>\n",
       "      <td>...</td>\n",
       "    </tr>\n",
       "    <tr>\n",
       "      <th>999994</th>\n",
       "      <td>499998</td>\n",
       "      <td>999996</td>\n",
       "      <td>trabalho</td>\n",
       "      <td>visita_rara</td>\n",
       "      <td>NaN</td>\n",
       "    </tr>\n",
       "    <tr>\n",
       "      <th>999995</th>\n",
       "      <td>499998</td>\n",
       "      <td>999997</td>\n",
       "      <td>trabalho</td>\n",
       "      <td>visita_rara</td>\n",
       "      <td>NaN</td>\n",
       "    </tr>\n",
       "    <tr>\n",
       "      <th>999996</th>\n",
       "      <td>499999</td>\n",
       "      <td>999998</td>\n",
       "      <td>familia</td>\n",
       "      <td>visita_casual</td>\n",
       "      <td>0.451662</td>\n",
       "    </tr>\n",
       "    <tr>\n",
       "      <th>999997</th>\n",
       "      <td>499999</td>\n",
       "      <td>999999</td>\n",
       "      <td>familia</td>\n",
       "      <td>visita_rara</td>\n",
       "      <td>0.186973</td>\n",
       "    </tr>\n",
       "    <tr>\n",
       "      <th>999998</th>\n",
       "      <td>500000</td>\n",
       "      <td>1000000</td>\n",
       "      <td>familia</td>\n",
       "      <td>visita_rara</td>\n",
       "      <td>NaN</td>\n",
       "    </tr>\n",
       "  </tbody>\n",
       "</table>\n",
       "<p>999999 rows × 5 columns</p>\n",
       "</div>"
      ],
      "text/plain": [
       "            V1       V2      grau       proximidade  prob_V1_V2\n",
       "0            1        2  trabalho  visita_frequente    0.589462\n",
       "1            1        3  trabalho       visita_rara    0.708465\n",
       "2            2        4  trabalho     visita_casual         NaN\n",
       "3            2        5  trabalho       visita_rara    0.638842\n",
       "4            3        6    amigos        mora_junto         NaN\n",
       "...        ...      ...       ...               ...         ...\n",
       "999994  499998   999996  trabalho       visita_rara         NaN\n",
       "999995  499998   999997  trabalho       visita_rara         NaN\n",
       "999996  499999   999998   familia     visita_casual    0.451662\n",
       "999997  499999   999999   familia       visita_rara    0.186973\n",
       "999998  500000  1000000   familia       visita_rara         NaN\n",
       "\n",
       "[999999 rows x 5 columns]"
      ]
     },
     "execution_count": 81,
     "metadata": {},
     "output_type": "execute_result"
    }
   ],
   "source": [
    "df_conexoes"
   ]
  },
  {
   "cell_type": "code",
   "execution_count": 82,
   "id": "3684d25d",
   "metadata": {},
   "outputs": [
    {
     "data": {
      "text/html": [
       "<div>\n",
       "<style scoped>\n",
       "    .dataframe tbody tr th:only-of-type {\n",
       "        vertical-align: middle;\n",
       "    }\n",
       "\n",
       "    .dataframe tbody tr th {\n",
       "        vertical-align: top;\n",
       "    }\n",
       "\n",
       "    .dataframe thead th {\n",
       "        text-align: right;\n",
       "    }\n",
       "</style>\n",
       "<table border=\"1\" class=\"dataframe\">\n",
       "  <thead>\n",
       "    <tr style=\"text-align: right;\">\n",
       "      <th></th>\n",
       "      <th>name</th>\n",
       "      <th>idade</th>\n",
       "      <th>estado_civil</th>\n",
       "      <th>qt_filhos</th>\n",
       "      <th>estuda</th>\n",
       "      <th>trabalha</th>\n",
       "      <th>pratica_esportes</th>\n",
       "      <th>transporte_mais_utilizado</th>\n",
       "      <th>IMC</th>\n",
       "    </tr>\n",
       "  </thead>\n",
       "  <tbody>\n",
       "    <tr>\n",
       "      <th>0</th>\n",
       "      <td>1</td>\n",
       "      <td>44.0</td>\n",
       "      <td>divorciado</td>\n",
       "      <td>1.0</td>\n",
       "      <td>1.0</td>\n",
       "      <td>0.0</td>\n",
       "      <td>1.0</td>\n",
       "      <td>publico</td>\n",
       "      <td>22.200956</td>\n",
       "    </tr>\n",
       "    <tr>\n",
       "      <th>1</th>\n",
       "      <td>2</td>\n",
       "      <td>24.0</td>\n",
       "      <td>casado</td>\n",
       "      <td>0.0</td>\n",
       "      <td>0.0</td>\n",
       "      <td>0.0</td>\n",
       "      <td>1.0</td>\n",
       "      <td>publico</td>\n",
       "      <td>25.378720</td>\n",
       "    </tr>\n",
       "    <tr>\n",
       "      <th>2</th>\n",
       "      <td>3</td>\n",
       "      <td>35.0</td>\n",
       "      <td>solteiro</td>\n",
       "      <td>1.0</td>\n",
       "      <td>0.0</td>\n",
       "      <td>0.0</td>\n",
       "      <td>1.0</td>\n",
       "      <td>particular</td>\n",
       "      <td>19.952393</td>\n",
       "    </tr>\n",
       "    <tr>\n",
       "      <th>3</th>\n",
       "      <td>4</td>\n",
       "      <td>50.0</td>\n",
       "      <td>casado</td>\n",
       "      <td>1.0</td>\n",
       "      <td>1.0</td>\n",
       "      <td>1.0</td>\n",
       "      <td>0.0</td>\n",
       "      <td>publico</td>\n",
       "      <td>26.732053</td>\n",
       "    </tr>\n",
       "    <tr>\n",
       "      <th>4</th>\n",
       "      <td>5</td>\n",
       "      <td>30.0</td>\n",
       "      <td>solteiro</td>\n",
       "      <td>2.0</td>\n",
       "      <td>1.0</td>\n",
       "      <td>0.0</td>\n",
       "      <td>1.0</td>\n",
       "      <td>publico</td>\n",
       "      <td>15.295668</td>\n",
       "    </tr>\n",
       "    <tr>\n",
       "      <th>...</th>\n",
       "      <td>...</td>\n",
       "      <td>...</td>\n",
       "      <td>...</td>\n",
       "      <td>...</td>\n",
       "      <td>...</td>\n",
       "      <td>...</td>\n",
       "      <td>...</td>\n",
       "      <td>...</td>\n",
       "      <td>...</td>\n",
       "    </tr>\n",
       "    <tr>\n",
       "      <th>999995</th>\n",
       "      <td>999996</td>\n",
       "      <td>34.0</td>\n",
       "      <td>casado</td>\n",
       "      <td>1.0</td>\n",
       "      <td>0.0</td>\n",
       "      <td>1.0</td>\n",
       "      <td>1.0</td>\n",
       "      <td>publico</td>\n",
       "      <td>17.556771</td>\n",
       "    </tr>\n",
       "    <tr>\n",
       "      <th>999996</th>\n",
       "      <td>999997</td>\n",
       "      <td>40.0</td>\n",
       "      <td>casado</td>\n",
       "      <td>1.0</td>\n",
       "      <td>0.0</td>\n",
       "      <td>1.0</td>\n",
       "      <td>1.0</td>\n",
       "      <td>particular</td>\n",
       "      <td>24.848402</td>\n",
       "    </tr>\n",
       "    <tr>\n",
       "      <th>999997</th>\n",
       "      <td>999998</td>\n",
       "      <td>30.0</td>\n",
       "      <td>divorciado</td>\n",
       "      <td>1.0</td>\n",
       "      <td>0.0</td>\n",
       "      <td>0.0</td>\n",
       "      <td>1.0</td>\n",
       "      <td>publico</td>\n",
       "      <td>20.993898</td>\n",
       "    </tr>\n",
       "    <tr>\n",
       "      <th>999998</th>\n",
       "      <td>999999</td>\n",
       "      <td>33.0</td>\n",
       "      <td>casado</td>\n",
       "      <td>0.0</td>\n",
       "      <td>1.0</td>\n",
       "      <td>1.0</td>\n",
       "      <td>1.0</td>\n",
       "      <td>publico</td>\n",
       "      <td>16.979569</td>\n",
       "    </tr>\n",
       "    <tr>\n",
       "      <th>999999</th>\n",
       "      <td>1000000</td>\n",
       "      <td>22.0</td>\n",
       "      <td>solteiro</td>\n",
       "      <td>0.0</td>\n",
       "      <td>0.0</td>\n",
       "      <td>0.0</td>\n",
       "      <td>0.0</td>\n",
       "      <td>publico</td>\n",
       "      <td>24.018825</td>\n",
       "    </tr>\n",
       "  </tbody>\n",
       "</table>\n",
       "<p>1000000 rows × 9 columns</p>\n",
       "</div>"
      ],
      "text/plain": [
       "           name  idade estado_civil  qt_filhos  estuda  trabalha  \\\n",
       "0             1   44.0   divorciado        1.0     1.0       0.0   \n",
       "1             2   24.0       casado        0.0     0.0       0.0   \n",
       "2             3   35.0     solteiro        1.0     0.0       0.0   \n",
       "3             4   50.0       casado        1.0     1.0       1.0   \n",
       "4             5   30.0     solteiro        2.0     1.0       0.0   \n",
       "...         ...    ...          ...        ...     ...       ...   \n",
       "999995   999996   34.0       casado        1.0     0.0       1.0   \n",
       "999996   999997   40.0       casado        1.0     0.0       1.0   \n",
       "999997   999998   30.0   divorciado        1.0     0.0       0.0   \n",
       "999998   999999   33.0       casado        0.0     1.0       1.0   \n",
       "999999  1000000   22.0     solteiro        0.0     0.0       0.0   \n",
       "\n",
       "        pratica_esportes transporte_mais_utilizado        IMC  \n",
       "0                    1.0                   publico  22.200956  \n",
       "1                    1.0                   publico  25.378720  \n",
       "2                    1.0                particular  19.952393  \n",
       "3                    0.0                   publico  26.732053  \n",
       "4                    1.0                   publico  15.295668  \n",
       "...                  ...                       ...        ...  \n",
       "999995               1.0                   publico  17.556771  \n",
       "999996               1.0                particular  24.848402  \n",
       "999997               1.0                   publico  20.993898  \n",
       "999998               1.0                   publico  16.979569  \n",
       "999999               0.0                   publico  24.018825  \n",
       "\n",
       "[1000000 rows x 9 columns]"
      ]
     },
     "execution_count": 82,
     "metadata": {},
     "output_type": "execute_result"
    }
   ],
   "source": [
    "df_individuos_tratada"
   ]
  },
  {
   "cell_type": "code",
   "execution_count": 83,
   "id": "75abe8a0",
   "metadata": {},
   "outputs": [],
   "source": [
    "#Make the db in memory\n",
    "conn = sqlite3.connect(':memory:')\n",
    "#write the tables\n",
    "df_conexoes.to_sql('conexoes', conn, index=False)\n",
    "df_individuos_tratada.to_sql('individuos', conn, index=False)\n",
    "\n",
    "query = '''\n",
    "    select  \n",
    "        i1.idade idade1,\n",
    "        i1.estado_civil estado_civil1,\n",
    "        i1.qt_filhos qt_filhos1,\n",
    "        i1.estuda estuda1,\n",
    "        i1.trabalha trabalha1,\n",
    "        i1.pratica_esportes pratica_esportes1,\n",
    "        i1.transporte_mais_utilizado transporte_mais_utilizado1,\n",
    "        i1.IMC IMC1,\n",
    "        \n",
    "        i2.idade idade2,\n",
    "        i2.estado_civil estado_civil2,\n",
    "        i2.qt_filhos qt_filhos2,\n",
    "        i2.estuda estuda2,\n",
    "        i2.trabalha trabalha2,\n",
    "        i2.pratica_esportes pratica_esportes2,\n",
    "        i2.transporte_mais_utilizado transporte_mais_utilizado2,\n",
    "        i2.IMC IMC2,\n",
    "        c.grau grau,\n",
    "        c.proximidade proximidade,\n",
    "        c.prob_V1_V2\n",
    "    from\n",
    "        conexoes c\n",
    "    inner join individuos i1 on i1.name = c.V1\n",
    "    inner join individuos i2 on i2.name = c.V2\n",
    "    '''\n",
    "df_individuos_conexoes_v1 = pd.read_sql_query(query, conn)"
   ]
  },
  {
   "cell_type": "code",
   "execution_count": 84,
   "id": "25664ded",
   "metadata": {},
   "outputs": [
    {
     "data": {
      "text/html": [
       "<div>\n",
       "<style scoped>\n",
       "    .dataframe tbody tr th:only-of-type {\n",
       "        vertical-align: middle;\n",
       "    }\n",
       "\n",
       "    .dataframe tbody tr th {\n",
       "        vertical-align: top;\n",
       "    }\n",
       "\n",
       "    .dataframe thead th {\n",
       "        text-align: right;\n",
       "    }\n",
       "</style>\n",
       "<table border=\"1\" class=\"dataframe\">\n",
       "  <thead>\n",
       "    <tr style=\"text-align: right;\">\n",
       "      <th></th>\n",
       "      <th>idade1</th>\n",
       "      <th>estado_civil1</th>\n",
       "      <th>qt_filhos1</th>\n",
       "      <th>estuda1</th>\n",
       "      <th>trabalha1</th>\n",
       "      <th>pratica_esportes1</th>\n",
       "      <th>transporte_mais_utilizado1</th>\n",
       "      <th>IMC1</th>\n",
       "      <th>idade2</th>\n",
       "      <th>estado_civil2</th>\n",
       "      <th>qt_filhos2</th>\n",
       "      <th>estuda2</th>\n",
       "      <th>trabalha2</th>\n",
       "      <th>pratica_esportes2</th>\n",
       "      <th>transporte_mais_utilizado2</th>\n",
       "      <th>IMC2</th>\n",
       "      <th>grau</th>\n",
       "      <th>proximidade</th>\n",
       "      <th>prob_V1_V2</th>\n",
       "    </tr>\n",
       "  </thead>\n",
       "  <tbody>\n",
       "    <tr>\n",
       "      <th>0</th>\n",
       "      <td>44.0</td>\n",
       "      <td>divorciado</td>\n",
       "      <td>1.0</td>\n",
       "      <td>1.0</td>\n",
       "      <td>0.0</td>\n",
       "      <td>1.0</td>\n",
       "      <td>publico</td>\n",
       "      <td>22.200956</td>\n",
       "      <td>24.0</td>\n",
       "      <td>casado</td>\n",
       "      <td>0.0</td>\n",
       "      <td>0.0</td>\n",
       "      <td>0.0</td>\n",
       "      <td>1.0</td>\n",
       "      <td>publico</td>\n",
       "      <td>25.378720</td>\n",
       "      <td>trabalho</td>\n",
       "      <td>visita_frequente</td>\n",
       "      <td>0.589462</td>\n",
       "    </tr>\n",
       "    <tr>\n",
       "      <th>1</th>\n",
       "      <td>44.0</td>\n",
       "      <td>divorciado</td>\n",
       "      <td>1.0</td>\n",
       "      <td>1.0</td>\n",
       "      <td>0.0</td>\n",
       "      <td>1.0</td>\n",
       "      <td>publico</td>\n",
       "      <td>22.200956</td>\n",
       "      <td>35.0</td>\n",
       "      <td>solteiro</td>\n",
       "      <td>1.0</td>\n",
       "      <td>0.0</td>\n",
       "      <td>0.0</td>\n",
       "      <td>1.0</td>\n",
       "      <td>particular</td>\n",
       "      <td>19.952393</td>\n",
       "      <td>trabalho</td>\n",
       "      <td>visita_rara</td>\n",
       "      <td>0.708465</td>\n",
       "    </tr>\n",
       "    <tr>\n",
       "      <th>2</th>\n",
       "      <td>24.0</td>\n",
       "      <td>casado</td>\n",
       "      <td>0.0</td>\n",
       "      <td>0.0</td>\n",
       "      <td>0.0</td>\n",
       "      <td>1.0</td>\n",
       "      <td>publico</td>\n",
       "      <td>25.378720</td>\n",
       "      <td>50.0</td>\n",
       "      <td>casado</td>\n",
       "      <td>1.0</td>\n",
       "      <td>1.0</td>\n",
       "      <td>1.0</td>\n",
       "      <td>0.0</td>\n",
       "      <td>publico</td>\n",
       "      <td>26.732053</td>\n",
       "      <td>trabalho</td>\n",
       "      <td>visita_casual</td>\n",
       "      <td>NaN</td>\n",
       "    </tr>\n",
       "    <tr>\n",
       "      <th>3</th>\n",
       "      <td>24.0</td>\n",
       "      <td>casado</td>\n",
       "      <td>0.0</td>\n",
       "      <td>0.0</td>\n",
       "      <td>0.0</td>\n",
       "      <td>1.0</td>\n",
       "      <td>publico</td>\n",
       "      <td>25.378720</td>\n",
       "      <td>30.0</td>\n",
       "      <td>solteiro</td>\n",
       "      <td>2.0</td>\n",
       "      <td>1.0</td>\n",
       "      <td>0.0</td>\n",
       "      <td>1.0</td>\n",
       "      <td>publico</td>\n",
       "      <td>15.295668</td>\n",
       "      <td>trabalho</td>\n",
       "      <td>visita_rara</td>\n",
       "      <td>0.638842</td>\n",
       "    </tr>\n",
       "    <tr>\n",
       "      <th>4</th>\n",
       "      <td>35.0</td>\n",
       "      <td>solteiro</td>\n",
       "      <td>1.0</td>\n",
       "      <td>0.0</td>\n",
       "      <td>0.0</td>\n",
       "      <td>1.0</td>\n",
       "      <td>particular</td>\n",
       "      <td>19.952393</td>\n",
       "      <td>20.0</td>\n",
       "      <td>divorciado</td>\n",
       "      <td>1.0</td>\n",
       "      <td>0.0</td>\n",
       "      <td>1.0</td>\n",
       "      <td>0.0</td>\n",
       "      <td>publico</td>\n",
       "      <td>20.412942</td>\n",
       "      <td>amigos</td>\n",
       "      <td>mora_junto</td>\n",
       "      <td>NaN</td>\n",
       "    </tr>\n",
       "    <tr>\n",
       "      <th>...</th>\n",
       "      <td>...</td>\n",
       "      <td>...</td>\n",
       "      <td>...</td>\n",
       "      <td>...</td>\n",
       "      <td>...</td>\n",
       "      <td>...</td>\n",
       "      <td>...</td>\n",
       "      <td>...</td>\n",
       "      <td>...</td>\n",
       "      <td>...</td>\n",
       "      <td>...</td>\n",
       "      <td>...</td>\n",
       "      <td>...</td>\n",
       "      <td>...</td>\n",
       "      <td>...</td>\n",
       "      <td>...</td>\n",
       "      <td>...</td>\n",
       "      <td>...</td>\n",
       "      <td>...</td>\n",
       "    </tr>\n",
       "    <tr>\n",
       "      <th>999994</th>\n",
       "      <td>23.0</td>\n",
       "      <td>casado</td>\n",
       "      <td>0.0</td>\n",
       "      <td>1.0</td>\n",
       "      <td>1.0</td>\n",
       "      <td>0.0</td>\n",
       "      <td>publico</td>\n",
       "      <td>22.036885</td>\n",
       "      <td>34.0</td>\n",
       "      <td>casado</td>\n",
       "      <td>1.0</td>\n",
       "      <td>0.0</td>\n",
       "      <td>1.0</td>\n",
       "      <td>1.0</td>\n",
       "      <td>publico</td>\n",
       "      <td>17.556771</td>\n",
       "      <td>trabalho</td>\n",
       "      <td>visita_rara</td>\n",
       "      <td>NaN</td>\n",
       "    </tr>\n",
       "    <tr>\n",
       "      <th>999995</th>\n",
       "      <td>23.0</td>\n",
       "      <td>casado</td>\n",
       "      <td>0.0</td>\n",
       "      <td>1.0</td>\n",
       "      <td>1.0</td>\n",
       "      <td>0.0</td>\n",
       "      <td>publico</td>\n",
       "      <td>22.036885</td>\n",
       "      <td>40.0</td>\n",
       "      <td>casado</td>\n",
       "      <td>1.0</td>\n",
       "      <td>0.0</td>\n",
       "      <td>1.0</td>\n",
       "      <td>1.0</td>\n",
       "      <td>particular</td>\n",
       "      <td>24.848402</td>\n",
       "      <td>trabalho</td>\n",
       "      <td>visita_rara</td>\n",
       "      <td>NaN</td>\n",
       "    </tr>\n",
       "    <tr>\n",
       "      <th>999996</th>\n",
       "      <td>26.0</td>\n",
       "      <td>casado</td>\n",
       "      <td>3.0</td>\n",
       "      <td>0.0</td>\n",
       "      <td>0.0</td>\n",
       "      <td>0.0</td>\n",
       "      <td>taxi</td>\n",
       "      <td>19.543889</td>\n",
       "      <td>30.0</td>\n",
       "      <td>divorciado</td>\n",
       "      <td>1.0</td>\n",
       "      <td>0.0</td>\n",
       "      <td>0.0</td>\n",
       "      <td>1.0</td>\n",
       "      <td>publico</td>\n",
       "      <td>20.993898</td>\n",
       "      <td>familia</td>\n",
       "      <td>visita_casual</td>\n",
       "      <td>0.451662</td>\n",
       "    </tr>\n",
       "    <tr>\n",
       "      <th>999997</th>\n",
       "      <td>26.0</td>\n",
       "      <td>casado</td>\n",
       "      <td>3.0</td>\n",
       "      <td>0.0</td>\n",
       "      <td>0.0</td>\n",
       "      <td>0.0</td>\n",
       "      <td>taxi</td>\n",
       "      <td>19.543889</td>\n",
       "      <td>33.0</td>\n",
       "      <td>casado</td>\n",
       "      <td>0.0</td>\n",
       "      <td>1.0</td>\n",
       "      <td>1.0</td>\n",
       "      <td>1.0</td>\n",
       "      <td>publico</td>\n",
       "      <td>16.979569</td>\n",
       "      <td>familia</td>\n",
       "      <td>visita_rara</td>\n",
       "      <td>0.186973</td>\n",
       "    </tr>\n",
       "    <tr>\n",
       "      <th>999998</th>\n",
       "      <td>12.0</td>\n",
       "      <td>solteiro</td>\n",
       "      <td>0.0</td>\n",
       "      <td>1.0</td>\n",
       "      <td>0.0</td>\n",
       "      <td>1.0</td>\n",
       "      <td>publico</td>\n",
       "      <td>19.321093</td>\n",
       "      <td>22.0</td>\n",
       "      <td>solteiro</td>\n",
       "      <td>0.0</td>\n",
       "      <td>0.0</td>\n",
       "      <td>0.0</td>\n",
       "      <td>0.0</td>\n",
       "      <td>publico</td>\n",
       "      <td>24.018825</td>\n",
       "      <td>familia</td>\n",
       "      <td>visita_rara</td>\n",
       "      <td>NaN</td>\n",
       "    </tr>\n",
       "  </tbody>\n",
       "</table>\n",
       "<p>999999 rows × 19 columns</p>\n",
       "</div>"
      ],
      "text/plain": [
       "        idade1 estado_civil1  qt_filhos1  estuda1  trabalha1  \\\n",
       "0         44.0    divorciado         1.0      1.0        0.0   \n",
       "1         44.0    divorciado         1.0      1.0        0.0   \n",
       "2         24.0        casado         0.0      0.0        0.0   \n",
       "3         24.0        casado         0.0      0.0        0.0   \n",
       "4         35.0      solteiro         1.0      0.0        0.0   \n",
       "...        ...           ...         ...      ...        ...   \n",
       "999994    23.0        casado         0.0      1.0        1.0   \n",
       "999995    23.0        casado         0.0      1.0        1.0   \n",
       "999996    26.0        casado         3.0      0.0        0.0   \n",
       "999997    26.0        casado         3.0      0.0        0.0   \n",
       "999998    12.0      solteiro         0.0      1.0        0.0   \n",
       "\n",
       "        pratica_esportes1 transporte_mais_utilizado1       IMC1  idade2  \\\n",
       "0                     1.0                    publico  22.200956    24.0   \n",
       "1                     1.0                    publico  22.200956    35.0   \n",
       "2                     1.0                    publico  25.378720    50.0   \n",
       "3                     1.0                    publico  25.378720    30.0   \n",
       "4                     1.0                 particular  19.952393    20.0   \n",
       "...                   ...                        ...        ...     ...   \n",
       "999994                0.0                    publico  22.036885    34.0   \n",
       "999995                0.0                    publico  22.036885    40.0   \n",
       "999996                0.0                       taxi  19.543889    30.0   \n",
       "999997                0.0                       taxi  19.543889    33.0   \n",
       "999998                1.0                    publico  19.321093    22.0   \n",
       "\n",
       "       estado_civil2  qt_filhos2  estuda2  trabalha2  pratica_esportes2  \\\n",
       "0             casado         0.0      0.0        0.0                1.0   \n",
       "1           solteiro         1.0      0.0        0.0                1.0   \n",
       "2             casado         1.0      1.0        1.0                0.0   \n",
       "3           solteiro         2.0      1.0        0.0                1.0   \n",
       "4         divorciado         1.0      0.0        1.0                0.0   \n",
       "...              ...         ...      ...        ...                ...   \n",
       "999994        casado         1.0      0.0        1.0                1.0   \n",
       "999995        casado         1.0      0.0        1.0                1.0   \n",
       "999996    divorciado         1.0      0.0        0.0                1.0   \n",
       "999997        casado         0.0      1.0        1.0                1.0   \n",
       "999998      solteiro         0.0      0.0        0.0                0.0   \n",
       "\n",
       "       transporte_mais_utilizado2       IMC2      grau       proximidade  \\\n",
       "0                         publico  25.378720  trabalho  visita_frequente   \n",
       "1                      particular  19.952393  trabalho       visita_rara   \n",
       "2                         publico  26.732053  trabalho     visita_casual   \n",
       "3                         publico  15.295668  trabalho       visita_rara   \n",
       "4                         publico  20.412942    amigos        mora_junto   \n",
       "...                           ...        ...       ...               ...   \n",
       "999994                    publico  17.556771  trabalho       visita_rara   \n",
       "999995                 particular  24.848402  trabalho       visita_rara   \n",
       "999996                    publico  20.993898   familia     visita_casual   \n",
       "999997                    publico  16.979569   familia       visita_rara   \n",
       "999998                    publico  24.018825   familia       visita_rara   \n",
       "\n",
       "        prob_V1_V2  \n",
       "0         0.589462  \n",
       "1         0.708465  \n",
       "2              NaN  \n",
       "3         0.638842  \n",
       "4              NaN  \n",
       "...            ...  \n",
       "999994         NaN  \n",
       "999995         NaN  \n",
       "999996    0.451662  \n",
       "999997    0.186973  \n",
       "999998         NaN  \n",
       "\n",
       "[999999 rows x 19 columns]"
      ]
     },
     "execution_count": 84,
     "metadata": {},
     "output_type": "execute_result"
    }
   ],
   "source": [
    "df_individuos_conexoes_v1"
   ]
  },
  {
   "cell_type": "code",
   "execution_count": 85,
   "id": "90e2ff31",
   "metadata": {},
   "outputs": [],
   "source": [
    "file = 'individuos_conexoes_v1.csv'\n",
    "df_individuos_conexoes_v1.to_csv(file, sep=';', index=False)"
   ]
  },
  {
   "cell_type": "markdown",
   "id": "7c90db51",
   "metadata": {},
   "source": [
    "--------"
   ]
  },
  {
   "cell_type": "markdown",
   "id": "9f47b912",
   "metadata": {},
   "source": [
    "## Criando uma versão das duas tabelas apenas com a remoção dos dados faltantes"
   ]
  },
  {
   "cell_type": "code",
   "execution_count": 90,
   "id": "3636f808",
   "metadata": {},
   "outputs": [
    {
     "data": {
      "text/html": [
       "<div>\n",
       "<style scoped>\n",
       "    .dataframe tbody tr th:only-of-type {\n",
       "        vertical-align: middle;\n",
       "    }\n",
       "\n",
       "    .dataframe tbody tr th {\n",
       "        vertical-align: top;\n",
       "    }\n",
       "\n",
       "    .dataframe thead th {\n",
       "        text-align: right;\n",
       "    }\n",
       "</style>\n",
       "<table border=\"1\" class=\"dataframe\">\n",
       "  <thead>\n",
       "    <tr style=\"text-align: right;\">\n",
       "      <th></th>\n",
       "      <th>name</th>\n",
       "      <th>idade</th>\n",
       "      <th>estado_civil</th>\n",
       "      <th>qt_filhos</th>\n",
       "      <th>estuda</th>\n",
       "      <th>trabalha</th>\n",
       "      <th>pratica_esportes</th>\n",
       "      <th>transporte_mais_utilizado</th>\n",
       "      <th>IMC</th>\n",
       "    </tr>\n",
       "  </thead>\n",
       "  <tbody>\n",
       "    <tr>\n",
       "      <th>0</th>\n",
       "      <td>1</td>\n",
       "      <td>44.0</td>\n",
       "      <td>divorciado</td>\n",
       "      <td>1.0</td>\n",
       "      <td>1.0</td>\n",
       "      <td>0.0</td>\n",
       "      <td>1.0</td>\n",
       "      <td>publico</td>\n",
       "      <td>22.200956</td>\n",
       "    </tr>\n",
       "    <tr>\n",
       "      <th>1</th>\n",
       "      <td>2</td>\n",
       "      <td>24.0</td>\n",
       "      <td>casado</td>\n",
       "      <td>0.0</td>\n",
       "      <td>0.0</td>\n",
       "      <td>0.0</td>\n",
       "      <td>1.0</td>\n",
       "      <td>publico</td>\n",
       "      <td>25.378720</td>\n",
       "    </tr>\n",
       "    <tr>\n",
       "      <th>2</th>\n",
       "      <td>3</td>\n",
       "      <td>35.0</td>\n",
       "      <td>solteiro</td>\n",
       "      <td>1.0</td>\n",
       "      <td>0.0</td>\n",
       "      <td>0.0</td>\n",
       "      <td>1.0</td>\n",
       "      <td>particular</td>\n",
       "      <td>19.952393</td>\n",
       "    </tr>\n",
       "    <tr>\n",
       "      <th>3</th>\n",
       "      <td>4</td>\n",
       "      <td>50.0</td>\n",
       "      <td>casado</td>\n",
       "      <td>1.0</td>\n",
       "      <td>1.0</td>\n",
       "      <td>1.0</td>\n",
       "      <td>0.0</td>\n",
       "      <td>publico</td>\n",
       "      <td>26.732053</td>\n",
       "    </tr>\n",
       "    <tr>\n",
       "      <th>4</th>\n",
       "      <td>5</td>\n",
       "      <td>30.0</td>\n",
       "      <td>solteiro</td>\n",
       "      <td>2.0</td>\n",
       "      <td>1.0</td>\n",
       "      <td>0.0</td>\n",
       "      <td>1.0</td>\n",
       "      <td>publico</td>\n",
       "      <td>15.295668</td>\n",
       "    </tr>\n",
       "    <tr>\n",
       "      <th>...</th>\n",
       "      <td>...</td>\n",
       "      <td>...</td>\n",
       "      <td>...</td>\n",
       "      <td>...</td>\n",
       "      <td>...</td>\n",
       "      <td>...</td>\n",
       "      <td>...</td>\n",
       "      <td>...</td>\n",
       "      <td>...</td>\n",
       "    </tr>\n",
       "    <tr>\n",
       "      <th>999995</th>\n",
       "      <td>999996</td>\n",
       "      <td>34.0</td>\n",
       "      <td>casado</td>\n",
       "      <td>1.0</td>\n",
       "      <td>0.0</td>\n",
       "      <td>1.0</td>\n",
       "      <td>1.0</td>\n",
       "      <td>publico</td>\n",
       "      <td>17.556771</td>\n",
       "    </tr>\n",
       "    <tr>\n",
       "      <th>999996</th>\n",
       "      <td>999997</td>\n",
       "      <td>40.0</td>\n",
       "      <td>casado</td>\n",
       "      <td>1.0</td>\n",
       "      <td>0.0</td>\n",
       "      <td>1.0</td>\n",
       "      <td>1.0</td>\n",
       "      <td>particular</td>\n",
       "      <td>24.848402</td>\n",
       "    </tr>\n",
       "    <tr>\n",
       "      <th>999997</th>\n",
       "      <td>999998</td>\n",
       "      <td>30.0</td>\n",
       "      <td>divorciado</td>\n",
       "      <td>1.0</td>\n",
       "      <td>0.0</td>\n",
       "      <td>0.0</td>\n",
       "      <td>1.0</td>\n",
       "      <td>publico</td>\n",
       "      <td>NaN</td>\n",
       "    </tr>\n",
       "    <tr>\n",
       "      <th>999998</th>\n",
       "      <td>999999</td>\n",
       "      <td>33.0</td>\n",
       "      <td>casado</td>\n",
       "      <td>0.0</td>\n",
       "      <td>1.0</td>\n",
       "      <td>1.0</td>\n",
       "      <td>1.0</td>\n",
       "      <td>publico</td>\n",
       "      <td>16.979569</td>\n",
       "    </tr>\n",
       "    <tr>\n",
       "      <th>999999</th>\n",
       "      <td>1000000</td>\n",
       "      <td>22.0</td>\n",
       "      <td>solteiro</td>\n",
       "      <td>0.0</td>\n",
       "      <td>0.0</td>\n",
       "      <td>0.0</td>\n",
       "      <td>0.0</td>\n",
       "      <td>NaN</td>\n",
       "      <td>24.018825</td>\n",
       "    </tr>\n",
       "  </tbody>\n",
       "</table>\n",
       "<p>1000000 rows × 9 columns</p>\n",
       "</div>"
      ],
      "text/plain": [
       "           name  idade estado_civil  qt_filhos  estuda  trabalha  \\\n",
       "0             1   44.0   divorciado        1.0     1.0       0.0   \n",
       "1             2   24.0       casado        0.0     0.0       0.0   \n",
       "2             3   35.0     solteiro        1.0     0.0       0.0   \n",
       "3             4   50.0       casado        1.0     1.0       1.0   \n",
       "4             5   30.0     solteiro        2.0     1.0       0.0   \n",
       "...         ...    ...          ...        ...     ...       ...   \n",
       "999995   999996   34.0       casado        1.0     0.0       1.0   \n",
       "999996   999997   40.0       casado        1.0     0.0       1.0   \n",
       "999997   999998   30.0   divorciado        1.0     0.0       0.0   \n",
       "999998   999999   33.0       casado        0.0     1.0       1.0   \n",
       "999999  1000000   22.0     solteiro        0.0     0.0       0.0   \n",
       "\n",
       "        pratica_esportes transporte_mais_utilizado        IMC  \n",
       "0                    1.0                   publico  22.200956  \n",
       "1                    1.0                   publico  25.378720  \n",
       "2                    1.0                particular  19.952393  \n",
       "3                    0.0                   publico  26.732053  \n",
       "4                    1.0                   publico  15.295668  \n",
       "...                  ...                       ...        ...  \n",
       "999995               1.0                   publico  17.556771  \n",
       "999996               1.0                particular  24.848402  \n",
       "999997               1.0                   publico        NaN  \n",
       "999998               1.0                   publico  16.979569  \n",
       "999999               0.0                       NaN  24.018825  \n",
       "\n",
       "[1000000 rows x 9 columns]"
      ]
     },
     "execution_count": 90,
     "metadata": {},
     "output_type": "execute_result"
    }
   ],
   "source": [
    "df_individuos2 = pd.read_csv(file1, sep=';')\n",
    "df_individuos2"
   ]
  },
  {
   "cell_type": "code",
   "execution_count": 91,
   "id": "5994d93e",
   "metadata": {},
   "outputs": [
    {
     "data": {
      "text/html": [
       "<div>\n",
       "<style scoped>\n",
       "    .dataframe tbody tr th:only-of-type {\n",
       "        vertical-align: middle;\n",
       "    }\n",
       "\n",
       "    .dataframe tbody tr th {\n",
       "        vertical-align: top;\n",
       "    }\n",
       "\n",
       "    .dataframe thead th {\n",
       "        text-align: right;\n",
       "    }\n",
       "</style>\n",
       "<table border=\"1\" class=\"dataframe\">\n",
       "  <thead>\n",
       "    <tr style=\"text-align: right;\">\n",
       "      <th></th>\n",
       "      <th>name</th>\n",
       "      <th>idade</th>\n",
       "      <th>estado_civil</th>\n",
       "      <th>qt_filhos</th>\n",
       "      <th>estuda</th>\n",
       "      <th>trabalha</th>\n",
       "      <th>pratica_esportes</th>\n",
       "      <th>transporte_mais_utilizado</th>\n",
       "      <th>IMC</th>\n",
       "    </tr>\n",
       "  </thead>\n",
       "  <tbody>\n",
       "    <tr>\n",
       "      <th>0</th>\n",
       "      <td>1</td>\n",
       "      <td>44.0</td>\n",
       "      <td>divorciado</td>\n",
       "      <td>1.0</td>\n",
       "      <td>1.0</td>\n",
       "      <td>0.0</td>\n",
       "      <td>1.0</td>\n",
       "      <td>publico</td>\n",
       "      <td>22.200956</td>\n",
       "    </tr>\n",
       "    <tr>\n",
       "      <th>1</th>\n",
       "      <td>2</td>\n",
       "      <td>24.0</td>\n",
       "      <td>casado</td>\n",
       "      <td>0.0</td>\n",
       "      <td>0.0</td>\n",
       "      <td>0.0</td>\n",
       "      <td>1.0</td>\n",
       "      <td>publico</td>\n",
       "      <td>25.378720</td>\n",
       "    </tr>\n",
       "    <tr>\n",
       "      <th>2</th>\n",
       "      <td>3</td>\n",
       "      <td>35.0</td>\n",
       "      <td>solteiro</td>\n",
       "      <td>1.0</td>\n",
       "      <td>0.0</td>\n",
       "      <td>0.0</td>\n",
       "      <td>1.0</td>\n",
       "      <td>particular</td>\n",
       "      <td>19.952393</td>\n",
       "    </tr>\n",
       "    <tr>\n",
       "      <th>3</th>\n",
       "      <td>4</td>\n",
       "      <td>50.0</td>\n",
       "      <td>casado</td>\n",
       "      <td>1.0</td>\n",
       "      <td>1.0</td>\n",
       "      <td>1.0</td>\n",
       "      <td>0.0</td>\n",
       "      <td>publico</td>\n",
       "      <td>26.732053</td>\n",
       "    </tr>\n",
       "    <tr>\n",
       "      <th>4</th>\n",
       "      <td>5</td>\n",
       "      <td>30.0</td>\n",
       "      <td>solteiro</td>\n",
       "      <td>2.0</td>\n",
       "      <td>1.0</td>\n",
       "      <td>0.0</td>\n",
       "      <td>1.0</td>\n",
       "      <td>publico</td>\n",
       "      <td>15.295668</td>\n",
       "    </tr>\n",
       "    <tr>\n",
       "      <th>...</th>\n",
       "      <td>...</td>\n",
       "      <td>...</td>\n",
       "      <td>...</td>\n",
       "      <td>...</td>\n",
       "      <td>...</td>\n",
       "      <td>...</td>\n",
       "      <td>...</td>\n",
       "      <td>...</td>\n",
       "      <td>...</td>\n",
       "    </tr>\n",
       "    <tr>\n",
       "      <th>999990</th>\n",
       "      <td>999991</td>\n",
       "      <td>21.0</td>\n",
       "      <td>divorciado</td>\n",
       "      <td>1.0</td>\n",
       "      <td>1.0</td>\n",
       "      <td>1.0</td>\n",
       "      <td>0.0</td>\n",
       "      <td>publico</td>\n",
       "      <td>23.120396</td>\n",
       "    </tr>\n",
       "    <tr>\n",
       "      <th>999992</th>\n",
       "      <td>999993</td>\n",
       "      <td>66.0</td>\n",
       "      <td>divorciado</td>\n",
       "      <td>1.0</td>\n",
       "      <td>0.0</td>\n",
       "      <td>1.0</td>\n",
       "      <td>1.0</td>\n",
       "      <td>particular</td>\n",
       "      <td>19.363203</td>\n",
       "    </tr>\n",
       "    <tr>\n",
       "      <th>999995</th>\n",
       "      <td>999996</td>\n",
       "      <td>34.0</td>\n",
       "      <td>casado</td>\n",
       "      <td>1.0</td>\n",
       "      <td>0.0</td>\n",
       "      <td>1.0</td>\n",
       "      <td>1.0</td>\n",
       "      <td>publico</td>\n",
       "      <td>17.556771</td>\n",
       "    </tr>\n",
       "    <tr>\n",
       "      <th>999996</th>\n",
       "      <td>999997</td>\n",
       "      <td>40.0</td>\n",
       "      <td>casado</td>\n",
       "      <td>1.0</td>\n",
       "      <td>0.0</td>\n",
       "      <td>1.0</td>\n",
       "      <td>1.0</td>\n",
       "      <td>particular</td>\n",
       "      <td>24.848402</td>\n",
       "    </tr>\n",
       "    <tr>\n",
       "      <th>999998</th>\n",
       "      <td>999999</td>\n",
       "      <td>33.0</td>\n",
       "      <td>casado</td>\n",
       "      <td>0.0</td>\n",
       "      <td>1.0</td>\n",
       "      <td>1.0</td>\n",
       "      <td>1.0</td>\n",
       "      <td>publico</td>\n",
       "      <td>16.979569</td>\n",
       "    </tr>\n",
       "  </tbody>\n",
       "</table>\n",
       "<p>573977 rows × 9 columns</p>\n",
       "</div>"
      ],
      "text/plain": [
       "          name  idade estado_civil  qt_filhos  estuda  trabalha  \\\n",
       "0            1   44.0   divorciado        1.0     1.0       0.0   \n",
       "1            2   24.0       casado        0.0     0.0       0.0   \n",
       "2            3   35.0     solteiro        1.0     0.0       0.0   \n",
       "3            4   50.0       casado        1.0     1.0       1.0   \n",
       "4            5   30.0     solteiro        2.0     1.0       0.0   \n",
       "...        ...    ...          ...        ...     ...       ...   \n",
       "999990  999991   21.0   divorciado        1.0     1.0       1.0   \n",
       "999992  999993   66.0   divorciado        1.0     0.0       1.0   \n",
       "999995  999996   34.0       casado        1.0     0.0       1.0   \n",
       "999996  999997   40.0       casado        1.0     0.0       1.0   \n",
       "999998  999999   33.0       casado        0.0     1.0       1.0   \n",
       "\n",
       "        pratica_esportes transporte_mais_utilizado        IMC  \n",
       "0                    1.0                   publico  22.200956  \n",
       "1                    1.0                   publico  25.378720  \n",
       "2                    1.0                particular  19.952393  \n",
       "3                    0.0                   publico  26.732053  \n",
       "4                    1.0                   publico  15.295668  \n",
       "...                  ...                       ...        ...  \n",
       "999990               0.0                   publico  23.120396  \n",
       "999992               1.0                particular  19.363203  \n",
       "999995               1.0                   publico  17.556771  \n",
       "999996               1.0                particular  24.848402  \n",
       "999998               1.0                   publico  16.979569  \n",
       "\n",
       "[573977 rows x 9 columns]"
      ]
     },
     "execution_count": 91,
     "metadata": {},
     "output_type": "execute_result"
    }
   ],
   "source": [
    "df_individuos2.dropna(inplace=True)\n",
    "df_individuos2"
   ]
  },
  {
   "cell_type": "code",
   "execution_count": 92,
   "id": "a72895ca",
   "metadata": {},
   "outputs": [],
   "source": [
    "#Make the db in memory\n",
    "conn = sqlite3.connect(':memory:')\n",
    "#write the tables\n",
    "df_conexoes.to_sql('conexoes', conn, index=False)\n",
    "df_individuos2.to_sql('individuos', conn, index=False)\n",
    "\n",
    "query = '''\n",
    "    select  \n",
    "        i1.idade idade1,\n",
    "        i1.estado_civil estado_civil1,\n",
    "        i1.qt_filhos qt_filhos1,\n",
    "        i1.estuda estuda1,\n",
    "        i1.trabalha trabalha1,\n",
    "        i1.pratica_esportes pratica_esportes1,\n",
    "        i1.transporte_mais_utilizado transporte_mais_utilizado1,\n",
    "        i1.IMC IMC1,\n",
    "        \n",
    "        i2.idade idade2,\n",
    "        i2.estado_civil estado_civil2,\n",
    "        i2.qt_filhos qt_filhos2,\n",
    "        i2.estuda estuda2,\n",
    "        i2.trabalha trabalha2,\n",
    "        i2.pratica_esportes pratica_esportes2,\n",
    "        i2.transporte_mais_utilizado transporte_mais_utilizado2,\n",
    "        i2.IMC IMC2,\n",
    "        c.grau grau,\n",
    "        c.proximidade proximidade,\n",
    "        c.prob_V1_V2\n",
    "    from\n",
    "        conexoes c\n",
    "    inner join individuos i1 on i1.name = c.V1\n",
    "    inner join individuos i2 on i2.name = c.V2\n",
    "    '''\n",
    "df_individuos_conexoes_v2 = pd.read_sql_query(query, conn)"
   ]
  },
  {
   "cell_type": "code",
   "execution_count": 94,
   "id": "6be2c5f4",
   "metadata": {},
   "outputs": [
    {
     "data": {
      "text/html": [
       "<div>\n",
       "<style scoped>\n",
       "    .dataframe tbody tr th:only-of-type {\n",
       "        vertical-align: middle;\n",
       "    }\n",
       "\n",
       "    .dataframe tbody tr th {\n",
       "        vertical-align: top;\n",
       "    }\n",
       "\n",
       "    .dataframe thead th {\n",
       "        text-align: right;\n",
       "    }\n",
       "</style>\n",
       "<table border=\"1\" class=\"dataframe\">\n",
       "  <thead>\n",
       "    <tr style=\"text-align: right;\">\n",
       "      <th></th>\n",
       "      <th>idade1</th>\n",
       "      <th>estado_civil1</th>\n",
       "      <th>qt_filhos1</th>\n",
       "      <th>estuda1</th>\n",
       "      <th>trabalha1</th>\n",
       "      <th>pratica_esportes1</th>\n",
       "      <th>transporte_mais_utilizado1</th>\n",
       "      <th>IMC1</th>\n",
       "      <th>idade2</th>\n",
       "      <th>estado_civil2</th>\n",
       "      <th>qt_filhos2</th>\n",
       "      <th>estuda2</th>\n",
       "      <th>trabalha2</th>\n",
       "      <th>pratica_esportes2</th>\n",
       "      <th>transporte_mais_utilizado2</th>\n",
       "      <th>IMC2</th>\n",
       "      <th>grau</th>\n",
       "      <th>proximidade</th>\n",
       "      <th>prob_V1_V2</th>\n",
       "    </tr>\n",
       "  </thead>\n",
       "  <tbody>\n",
       "    <tr>\n",
       "      <th>0</th>\n",
       "      <td>44.0</td>\n",
       "      <td>divorciado</td>\n",
       "      <td>1.0</td>\n",
       "      <td>1.0</td>\n",
       "      <td>0.0</td>\n",
       "      <td>1.0</td>\n",
       "      <td>publico</td>\n",
       "      <td>22.200956</td>\n",
       "      <td>24.0</td>\n",
       "      <td>casado</td>\n",
       "      <td>0.0</td>\n",
       "      <td>0.0</td>\n",
       "      <td>0.0</td>\n",
       "      <td>1.0</td>\n",
       "      <td>publico</td>\n",
       "      <td>25.378720</td>\n",
       "      <td>trabalho</td>\n",
       "      <td>visita_frequente</td>\n",
       "      <td>0.589462</td>\n",
       "    </tr>\n",
       "    <tr>\n",
       "      <th>1</th>\n",
       "      <td>44.0</td>\n",
       "      <td>divorciado</td>\n",
       "      <td>1.0</td>\n",
       "      <td>1.0</td>\n",
       "      <td>0.0</td>\n",
       "      <td>1.0</td>\n",
       "      <td>publico</td>\n",
       "      <td>22.200956</td>\n",
       "      <td>35.0</td>\n",
       "      <td>solteiro</td>\n",
       "      <td>1.0</td>\n",
       "      <td>0.0</td>\n",
       "      <td>0.0</td>\n",
       "      <td>1.0</td>\n",
       "      <td>particular</td>\n",
       "      <td>19.952393</td>\n",
       "      <td>trabalho</td>\n",
       "      <td>visita_rara</td>\n",
       "      <td>0.708465</td>\n",
       "    </tr>\n",
       "    <tr>\n",
       "      <th>2</th>\n",
       "      <td>24.0</td>\n",
       "      <td>casado</td>\n",
       "      <td>0.0</td>\n",
       "      <td>0.0</td>\n",
       "      <td>0.0</td>\n",
       "      <td>1.0</td>\n",
       "      <td>publico</td>\n",
       "      <td>25.378720</td>\n",
       "      <td>50.0</td>\n",
       "      <td>casado</td>\n",
       "      <td>1.0</td>\n",
       "      <td>1.0</td>\n",
       "      <td>1.0</td>\n",
       "      <td>0.0</td>\n",
       "      <td>publico</td>\n",
       "      <td>26.732053</td>\n",
       "      <td>trabalho</td>\n",
       "      <td>visita_casual</td>\n",
       "      <td>NaN</td>\n",
       "    </tr>\n",
       "    <tr>\n",
       "      <th>3</th>\n",
       "      <td>24.0</td>\n",
       "      <td>casado</td>\n",
       "      <td>0.0</td>\n",
       "      <td>0.0</td>\n",
       "      <td>0.0</td>\n",
       "      <td>1.0</td>\n",
       "      <td>publico</td>\n",
       "      <td>25.378720</td>\n",
       "      <td>30.0</td>\n",
       "      <td>solteiro</td>\n",
       "      <td>2.0</td>\n",
       "      <td>1.0</td>\n",
       "      <td>0.0</td>\n",
       "      <td>1.0</td>\n",
       "      <td>publico</td>\n",
       "      <td>15.295668</td>\n",
       "      <td>trabalho</td>\n",
       "      <td>visita_rara</td>\n",
       "      <td>0.638842</td>\n",
       "    </tr>\n",
       "    <tr>\n",
       "      <th>4</th>\n",
       "      <td>30.0</td>\n",
       "      <td>solteiro</td>\n",
       "      <td>2.0</td>\n",
       "      <td>1.0</td>\n",
       "      <td>0.0</td>\n",
       "      <td>1.0</td>\n",
       "      <td>publico</td>\n",
       "      <td>15.295668</td>\n",
       "      <td>24.0</td>\n",
       "      <td>divorciado</td>\n",
       "      <td>0.0</td>\n",
       "      <td>0.0</td>\n",
       "      <td>0.0</td>\n",
       "      <td>1.0</td>\n",
       "      <td>publico</td>\n",
       "      <td>26.866953</td>\n",
       "      <td>trabalho</td>\n",
       "      <td>visita_frequente</td>\n",
       "      <td>0.658706</td>\n",
       "    </tr>\n",
       "    <tr>\n",
       "      <th>...</th>\n",
       "      <td>...</td>\n",
       "      <td>...</td>\n",
       "      <td>...</td>\n",
       "      <td>...</td>\n",
       "      <td>...</td>\n",
       "      <td>...</td>\n",
       "      <td>...</td>\n",
       "      <td>...</td>\n",
       "      <td>...</td>\n",
       "      <td>...</td>\n",
       "      <td>...</td>\n",
       "      <td>...</td>\n",
       "      <td>...</td>\n",
       "      <td>...</td>\n",
       "      <td>...</td>\n",
       "      <td>...</td>\n",
       "      <td>...</td>\n",
       "      <td>...</td>\n",
       "      <td>...</td>\n",
       "    </tr>\n",
       "    <tr>\n",
       "      <th>329113</th>\n",
       "      <td>47.0</td>\n",
       "      <td>casado</td>\n",
       "      <td>1.0</td>\n",
       "      <td>0.0</td>\n",
       "      <td>1.0</td>\n",
       "      <td>1.0</td>\n",
       "      <td>publico</td>\n",
       "      <td>31.921363</td>\n",
       "      <td>28.0</td>\n",
       "      <td>casado</td>\n",
       "      <td>1.0</td>\n",
       "      <td>1.0</td>\n",
       "      <td>1.0</td>\n",
       "      <td>0.0</td>\n",
       "      <td>particular</td>\n",
       "      <td>18.183257</td>\n",
       "      <td>trabalho</td>\n",
       "      <td>visita_casual</td>\n",
       "      <td>0.603042</td>\n",
       "    </tr>\n",
       "    <tr>\n",
       "      <th>329114</th>\n",
       "      <td>16.0</td>\n",
       "      <td>solteiro</td>\n",
       "      <td>3.0</td>\n",
       "      <td>1.0</td>\n",
       "      <td>0.0</td>\n",
       "      <td>0.0</td>\n",
       "      <td>publico</td>\n",
       "      <td>26.053920</td>\n",
       "      <td>66.0</td>\n",
       "      <td>divorciado</td>\n",
       "      <td>1.0</td>\n",
       "      <td>0.0</td>\n",
       "      <td>1.0</td>\n",
       "      <td>1.0</td>\n",
       "      <td>particular</td>\n",
       "      <td>19.363203</td>\n",
       "      <td>trabalho</td>\n",
       "      <td>visita_casual</td>\n",
       "      <td>0.621816</td>\n",
       "    </tr>\n",
       "    <tr>\n",
       "      <th>329115</th>\n",
       "      <td>23.0</td>\n",
       "      <td>casado</td>\n",
       "      <td>0.0</td>\n",
       "      <td>1.0</td>\n",
       "      <td>1.0</td>\n",
       "      <td>0.0</td>\n",
       "      <td>publico</td>\n",
       "      <td>22.036885</td>\n",
       "      <td>34.0</td>\n",
       "      <td>casado</td>\n",
       "      <td>1.0</td>\n",
       "      <td>0.0</td>\n",
       "      <td>1.0</td>\n",
       "      <td>1.0</td>\n",
       "      <td>publico</td>\n",
       "      <td>17.556771</td>\n",
       "      <td>trabalho</td>\n",
       "      <td>visita_rara</td>\n",
       "      <td>NaN</td>\n",
       "    </tr>\n",
       "    <tr>\n",
       "      <th>329116</th>\n",
       "      <td>23.0</td>\n",
       "      <td>casado</td>\n",
       "      <td>0.0</td>\n",
       "      <td>1.0</td>\n",
       "      <td>1.0</td>\n",
       "      <td>0.0</td>\n",
       "      <td>publico</td>\n",
       "      <td>22.036885</td>\n",
       "      <td>40.0</td>\n",
       "      <td>casado</td>\n",
       "      <td>1.0</td>\n",
       "      <td>0.0</td>\n",
       "      <td>1.0</td>\n",
       "      <td>1.0</td>\n",
       "      <td>particular</td>\n",
       "      <td>24.848402</td>\n",
       "      <td>trabalho</td>\n",
       "      <td>visita_rara</td>\n",
       "      <td>NaN</td>\n",
       "    </tr>\n",
       "    <tr>\n",
       "      <th>329117</th>\n",
       "      <td>26.0</td>\n",
       "      <td>casado</td>\n",
       "      <td>3.0</td>\n",
       "      <td>0.0</td>\n",
       "      <td>0.0</td>\n",
       "      <td>0.0</td>\n",
       "      <td>taxi</td>\n",
       "      <td>19.543889</td>\n",
       "      <td>33.0</td>\n",
       "      <td>casado</td>\n",
       "      <td>0.0</td>\n",
       "      <td>1.0</td>\n",
       "      <td>1.0</td>\n",
       "      <td>1.0</td>\n",
       "      <td>publico</td>\n",
       "      <td>16.979569</td>\n",
       "      <td>familia</td>\n",
       "      <td>visita_rara</td>\n",
       "      <td>0.186973</td>\n",
       "    </tr>\n",
       "  </tbody>\n",
       "</table>\n",
       "<p>329118 rows × 19 columns</p>\n",
       "</div>"
      ],
      "text/plain": [
       "        idade1 estado_civil1  qt_filhos1  estuda1  trabalha1  \\\n",
       "0         44.0    divorciado         1.0      1.0        0.0   \n",
       "1         44.0    divorciado         1.0      1.0        0.0   \n",
       "2         24.0        casado         0.0      0.0        0.0   \n",
       "3         24.0        casado         0.0      0.0        0.0   \n",
       "4         30.0      solteiro         2.0      1.0        0.0   \n",
       "...        ...           ...         ...      ...        ...   \n",
       "329113    47.0        casado         1.0      0.0        1.0   \n",
       "329114    16.0      solteiro         3.0      1.0        0.0   \n",
       "329115    23.0        casado         0.0      1.0        1.0   \n",
       "329116    23.0        casado         0.0      1.0        1.0   \n",
       "329117    26.0        casado         3.0      0.0        0.0   \n",
       "\n",
       "        pratica_esportes1 transporte_mais_utilizado1       IMC1  idade2  \\\n",
       "0                     1.0                    publico  22.200956    24.0   \n",
       "1                     1.0                    publico  22.200956    35.0   \n",
       "2                     1.0                    publico  25.378720    50.0   \n",
       "3                     1.0                    publico  25.378720    30.0   \n",
       "4                     1.0                    publico  15.295668    24.0   \n",
       "...                   ...                        ...        ...     ...   \n",
       "329113                1.0                    publico  31.921363    28.0   \n",
       "329114                0.0                    publico  26.053920    66.0   \n",
       "329115                0.0                    publico  22.036885    34.0   \n",
       "329116                0.0                    publico  22.036885    40.0   \n",
       "329117                0.0                       taxi  19.543889    33.0   \n",
       "\n",
       "       estado_civil2  qt_filhos2  estuda2  trabalha2  pratica_esportes2  \\\n",
       "0             casado         0.0      0.0        0.0                1.0   \n",
       "1           solteiro         1.0      0.0        0.0                1.0   \n",
       "2             casado         1.0      1.0        1.0                0.0   \n",
       "3           solteiro         2.0      1.0        0.0                1.0   \n",
       "4         divorciado         0.0      0.0        0.0                1.0   \n",
       "...              ...         ...      ...        ...                ...   \n",
       "329113        casado         1.0      1.0        1.0                0.0   \n",
       "329114    divorciado         1.0      0.0        1.0                1.0   \n",
       "329115        casado         1.0      0.0        1.0                1.0   \n",
       "329116        casado         1.0      0.0        1.0                1.0   \n",
       "329117        casado         0.0      1.0        1.0                1.0   \n",
       "\n",
       "       transporte_mais_utilizado2       IMC2      grau       proximidade  \\\n",
       "0                         publico  25.378720  trabalho  visita_frequente   \n",
       "1                      particular  19.952393  trabalho       visita_rara   \n",
       "2                         publico  26.732053  trabalho     visita_casual   \n",
       "3                         publico  15.295668  trabalho       visita_rara   \n",
       "4                         publico  26.866953  trabalho  visita_frequente   \n",
       "...                           ...        ...       ...               ...   \n",
       "329113                 particular  18.183257  trabalho     visita_casual   \n",
       "329114                 particular  19.363203  trabalho     visita_casual   \n",
       "329115                    publico  17.556771  trabalho       visita_rara   \n",
       "329116                 particular  24.848402  trabalho       visita_rara   \n",
       "329117                    publico  16.979569   familia       visita_rara   \n",
       "\n",
       "        prob_V1_V2  \n",
       "0         0.589462  \n",
       "1         0.708465  \n",
       "2              NaN  \n",
       "3         0.638842  \n",
       "4         0.658706  \n",
       "...            ...  \n",
       "329113    0.603042  \n",
       "329114    0.621816  \n",
       "329115         NaN  \n",
       "329116         NaN  \n",
       "329117    0.186973  \n",
       "\n",
       "[329118 rows x 19 columns]"
      ]
     },
     "execution_count": 94,
     "metadata": {},
     "output_type": "execute_result"
    }
   ],
   "source": [
    "df_individuos_conexoes_v2"
   ]
  },
  {
   "cell_type": "code",
   "execution_count": 95,
   "id": "aa42ce71",
   "metadata": {},
   "outputs": [],
   "source": [
    "file = 'individuos_conexoes_v2.csv'\n",
    "df_individuos_conexoes_v2.to_csv(file, sep=';', index=False)"
   ]
  },
  {
   "cell_type": "markdown",
   "id": "0f71e104",
   "metadata": {},
   "source": [
    "---------"
   ]
  }
 ],
 "metadata": {
  "kernelspec": {
   "display_name": "Python 3 (ipykernel)",
   "language": "python",
   "name": "python3"
  },
  "language_info": {
   "codemirror_mode": {
    "name": "ipython",
    "version": 3
   },
   "file_extension": ".py",
   "mimetype": "text/x-python",
   "name": "python",
   "nbconvert_exporter": "python",
   "pygments_lexer": "ipython3",
   "version": "3.7.10"
  }
 },
 "nbformat": 4,
 "nbformat_minor": 5
}
